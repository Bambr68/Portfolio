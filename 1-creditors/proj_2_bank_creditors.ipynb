{
 "cells": [
  {
   "cell_type": "markdown",
   "metadata": {},
   "source": [
    "# Исследование надёжности заёмщиков банка в зависимости от семейного положения"
   ]
  },
  {
   "cell_type": "markdown",
   "metadata": {},
   "source": [
    "## Общая информация об исследовании\n",
    "\n",
    "Цель исследования: оценить влияние семейного положения и наличия детей у заемщика на своевременное погашение кредита.\n",
    "\n",
    "Исходные данные: статистика платежеспособности клиентов, предоставленная банком\n",
    "\n",
    "План работы: \n",
    "- загрузка данных\n",
    "- изучение общей информации о данных\n",
    "- обработка пропусков\n",
    "- замена типов данных\n",
    "- обработка дубликатов\n",
    "- лемматизация\n",
    "- категоризация данных\n",
    "- исследование данных в соответствии с поставленными вопросами\n",
    "- выводы\n",
    "                \n"
   ]
  },
  {
   "cell_type": "markdown",
   "metadata": {
    "toc": true
   },
   "source": [
    "<h1>Содержание<span class=\"tocSkip\"></span></h1>\n",
    "<div class=\"toc\"><ul class=\"toc-item\"><li><span><a href=\"#Общая-информация-об-исследовании\" data-toc-modified-id=\"Общая-информация-об-исследовании-1\"><span class=\"toc-item-num\">1&nbsp;&nbsp;</span>Общая информация об исследовании</a></span></li><li><span><a href=\"#Загрузка-данных-и-изучение-общей-информации\" data-toc-modified-id=\"Загрузка-данных-и-изучение-общей-информации-2\"><span class=\"toc-item-num\">2&nbsp;&nbsp;</span>Загрузка данных и изучение общей информации</a></span></li><li><span><a href=\"#Предобработка-данных\" data-toc-modified-id=\"Предобработка-данных-3\"><span class=\"toc-item-num\">3&nbsp;&nbsp;</span>Предобработка данных</a></span><ul class=\"toc-item\"><li><span><a href=\"#Обработка-пропусков\" data-toc-modified-id=\"Обработка-пропусков-3.1\"><span class=\"toc-item-num\">3.1&nbsp;&nbsp;</span>Обработка пропусков</a></span><ul class=\"toc-item\"><li><span><a href=\"#Анализ-пропущенных-данных\" data-toc-modified-id=\"Анализ-пропущенных-данных-3.1.1\"><span class=\"toc-item-num\">3.1.1&nbsp;&nbsp;</span>Анализ пропущенных данных</a></span></li><li><span><a href=\"#Замена-пропущенных-данных\" data-toc-modified-id=\"Замена-пропущенных-данных-3.1.2\"><span class=\"toc-item-num\">3.1.2&nbsp;&nbsp;</span>Замена пропущенных данных</a></span></li></ul></li><li><span><a href=\"#Замена-типа-данных\" data-toc-modified-id=\"Замена-типа-данных-3.2\"><span class=\"toc-item-num\">3.2&nbsp;&nbsp;</span>Замена типа данных</a></span></li><li><span><a href=\"#Обработка-дубликатов\" data-toc-modified-id=\"Обработка-дубликатов-3.3\"><span class=\"toc-item-num\">3.3&nbsp;&nbsp;</span>Обработка дубликатов</a></span></li><li><span><a href=\"#Лемматизация\" data-toc-modified-id=\"Лемматизация-3.4\"><span class=\"toc-item-num\">3.4&nbsp;&nbsp;</span>Лемматизация</a></span></li><li><span><a href=\"#Категоризация-данных\" data-toc-modified-id=\"Категоризация-данных-3.5\"><span class=\"toc-item-num\">3.5&nbsp;&nbsp;</span>Категоризация данных</a></span></li></ul></li><li><span><a href=\"#Ответы-на-вопросы\" data-toc-modified-id=\"Ответы-на-вопросы-4\"><span class=\"toc-item-num\">4&nbsp;&nbsp;</span>Ответы на вопросы</a></span><ul class=\"toc-item\"><li><span><a href=\"#Есть-ли-зависимость-между-наличием-детей-и-возвратом-кредита-в-срок?\" data-toc-modified-id=\"Есть-ли-зависимость-между-наличием-детей-и-возвратом-кредита-в-срок?-4.1\"><span class=\"toc-item-num\">4.1&nbsp;&nbsp;</span>Есть ли зависимость между наличием детей и возвратом кредита в срок?</a></span></li><li><span><a href=\"#Есть-ли-зависимость-между-семейным-положением-и-возвратом-кредита-в-срок?\" data-toc-modified-id=\"Есть-ли-зависимость-между-семейным-положением-и-возвратом-кредита-в-срок?-4.2\"><span class=\"toc-item-num\">4.2&nbsp;&nbsp;</span>Есть ли зависимость между семейным положением и возвратом кредита в срок?</a></span></li><li><span><a href=\"#Есть-ли-зависимость-между-уровнем-дохода-и-возвратом-кредита-в-срок?\" data-toc-modified-id=\"Есть-ли-зависимость-между-уровнем-дохода-и-возвратом-кредита-в-срок?-4.3\"><span class=\"toc-item-num\">4.3&nbsp;&nbsp;</span>Есть ли зависимость между уровнем дохода и возвратом кредита в срок?</a></span></li><li><span><a href=\"#Как-разные-цели-кредита-влияют-на-его-возврат-в-срок?\" data-toc-modified-id=\"Как-разные-цели-кредита-влияют-на-его-возврат-в-срок?-4.4\"><span class=\"toc-item-num\">4.4&nbsp;&nbsp;</span>Как разные цели кредита влияют на его возврат в срок?</a></span></li></ul></li><li><span><a href=\"#Общий-вывод\" data-toc-modified-id=\"Общий-вывод-5\"><span class=\"toc-item-num\">5&nbsp;&nbsp;</span>Общий вывод</a></span></li></ul></div>"
   ]
  },
  {
   "cell_type": "markdown",
   "metadata": {},
   "source": [
    "## Загрузка данных и изучение общей информации"
   ]
  },
  {
   "cell_type": "markdown",
   "metadata": {},
   "source": [
    "Загружаем библиотеку pandas, читаем предоставленные в виде csv-файла данные, смотрим общую информацию."
   ]
  },
  {
   "cell_type": "code",
   "execution_count": 1,
   "metadata": {},
   "outputs": [],
   "source": [
    "import pandas as pd"
   ]
  },
  {
   "cell_type": "markdown",
   "metadata": {},
   "source": [
    "Формируем датафрейм из предоставленных данных и смотрим общую информацию.\n",
    "\n",
    "Так как проект готовится на локальной машине  - используем конструкцию try-except, чтобы срабатывало и на сервере Практикума "
   ]
  },
  {
   "cell_type": "code",
   "execution_count": 2,
   "metadata": {
    "tags": []
   },
   "outputs": [
    {
     "output_type": "stream",
     "name": "stdout",
     "text": "<class 'pandas.core.frame.DataFrame'>\nRangeIndex: 21525 entries, 0 to 21524\nData columns (total 12 columns):\n #   Column            Non-Null Count  Dtype  \n---  ------            --------------  -----  \n 0   children          21525 non-null  int64  \n 1   days_employed     19351 non-null  float64\n 2   dob_years         21525 non-null  int64  \n 3   education         21525 non-null  object \n 4   education_id      21525 non-null  int64  \n 5   family_status     21525 non-null  object \n 6   family_status_id  21525 non-null  int64  \n 7   gender            21525 non-null  object \n 8   income_type       21525 non-null  object \n 9   debt              21525 non-null  int64  \n 10  total_income      19351 non-null  float64\n 11  purpose           21525 non-null  object \ndtypes: float64(2), int64(5), object(5)\nmemory usage: 2.0+ MB\n"
    },
    {
     "output_type": "execute_result",
     "data": {
      "text/plain": "   children  days_employed  dob_years education  education_id  \\\n0         1   -8437.673028         42    высшее             0   \n1         1   -4024.803754         36   среднее             1   \n2         0   -5623.422610         33   Среднее             1   \n3         3   -4124.747207         32   среднее             1   \n4         0  340266.072047         53   среднее             1   \n\n      family_status  family_status_id gender income_type  debt   total_income  \\\n0   женат / замужем                 0      F   сотрудник     0  253875.639453   \n1   женат / замужем                 0      F   сотрудник     0  112080.014102   \n2   женат / замужем                 0      M   сотрудник     0  145885.952297   \n3   женат / замужем                 0      M   сотрудник     0  267628.550329   \n4  гражданский брак                 1      F   пенсионер     0  158616.077870   \n\n                      purpose  \n0               покупка жилья  \n1     приобретение автомобиля  \n2               покупка жилья  \n3  дополнительное образование  \n4             сыграть свадьбу  ",
      "text/html": "<div>\n<style scoped>\n    .dataframe tbody tr th:only-of-type {\n        vertical-align: middle;\n    }\n\n    .dataframe tbody tr th {\n        vertical-align: top;\n    }\n\n    .dataframe thead th {\n        text-align: right;\n    }\n</style>\n<table border=\"1\" class=\"dataframe\">\n  <thead>\n    <tr style=\"text-align: right;\">\n      <th></th>\n      <th>children</th>\n      <th>days_employed</th>\n      <th>dob_years</th>\n      <th>education</th>\n      <th>education_id</th>\n      <th>family_status</th>\n      <th>family_status_id</th>\n      <th>gender</th>\n      <th>income_type</th>\n      <th>debt</th>\n      <th>total_income</th>\n      <th>purpose</th>\n    </tr>\n  </thead>\n  <tbody>\n    <tr>\n      <th>0</th>\n      <td>1</td>\n      <td>-8437.673028</td>\n      <td>42</td>\n      <td>высшее</td>\n      <td>0</td>\n      <td>женат / замужем</td>\n      <td>0</td>\n      <td>F</td>\n      <td>сотрудник</td>\n      <td>0</td>\n      <td>253875.639453</td>\n      <td>покупка жилья</td>\n    </tr>\n    <tr>\n      <th>1</th>\n      <td>1</td>\n      <td>-4024.803754</td>\n      <td>36</td>\n      <td>среднее</td>\n      <td>1</td>\n      <td>женат / замужем</td>\n      <td>0</td>\n      <td>F</td>\n      <td>сотрудник</td>\n      <td>0</td>\n      <td>112080.014102</td>\n      <td>приобретение автомобиля</td>\n    </tr>\n    <tr>\n      <th>2</th>\n      <td>0</td>\n      <td>-5623.422610</td>\n      <td>33</td>\n      <td>Среднее</td>\n      <td>1</td>\n      <td>женат / замужем</td>\n      <td>0</td>\n      <td>M</td>\n      <td>сотрудник</td>\n      <td>0</td>\n      <td>145885.952297</td>\n      <td>покупка жилья</td>\n    </tr>\n    <tr>\n      <th>3</th>\n      <td>3</td>\n      <td>-4124.747207</td>\n      <td>32</td>\n      <td>среднее</td>\n      <td>1</td>\n      <td>женат / замужем</td>\n      <td>0</td>\n      <td>M</td>\n      <td>сотрудник</td>\n      <td>0</td>\n      <td>267628.550329</td>\n      <td>дополнительное образование</td>\n    </tr>\n    <tr>\n      <th>4</th>\n      <td>0</td>\n      <td>340266.072047</td>\n      <td>53</td>\n      <td>среднее</td>\n      <td>1</td>\n      <td>гражданский брак</td>\n      <td>1</td>\n      <td>F</td>\n      <td>пенсионер</td>\n      <td>0</td>\n      <td>158616.077870</td>\n      <td>сыграть свадьбу</td>\n    </tr>\n  </tbody>\n</table>\n</div>"
     },
     "metadata": {},
     "execution_count": 2
    }
   ],
   "source": [
    "# читаем таблицу data.csv\n",
    "try:\n",
    "    data = pd.read_csv('/datasets/data.csv')\n",
    "except:\n",
    "    data = pd.read_csv('data.csv')\n",
    "    \n",
    "# просмотрим информацию и превые строки датафрейма\n",
    "data.info()\n",
    "data.head()"
   ]
  },
  {
   "cell_type": "markdown",
   "metadata": {},
   "source": [
    "В полях days_employed и total_income обнаружены пропуски данных. Количество пропущеных строк одинаковое и составляет 10% от общего количества. "
   ]
  },
  {
   "cell_type": "markdown",
   "metadata": {},
   "source": [
    "Видим: \n",
    "- отрицательные значения в столбце days_employed\n",
    "- пропущенные данные в столбцах days_employed и total_income\n",
    "- записи в разных регистрах в столбце education"
   ]
  },
  {
   "cell_type": "markdown",
   "metadata": {},
   "source": [
    "Просмотрим данные о детях."
   ]
  },
  {
   "cell_type": "code",
   "execution_count": 3,
   "metadata": {
    "scrolled": true
   },
   "outputs": [
    {
     "output_type": "execute_result",
     "data": {
      "text/plain": " 0     14149\n 1      4818\n 2      2055\n 3       330\n 20       76\n-1        47\n 4        41\n 5         9\nName: children, dtype: int64"
     },
     "metadata": {},
     "execution_count": 3
    }
   ],
   "source": [
    "data['children'].value_counts()"
   ]
  },
  {
   "cell_type": "markdown",
   "metadata": {},
   "source": [
    "Как видим, в данных попадаются нереальные значения -1 и 20, всего 123 строки, т.е. 0.57%. \n",
    "Обращает на себя внимание тот факт, что появляются только эти значения, других нет (например значений -3 или 38). \n",
    "Возможно это связано с какой-либо технической проблемой или ошибкой при наборе (например цифры 2 и 0 находятся на клавиатуре рядом и вполне возможно случайное нажатие на обе цифры одновременно). "
   ]
  },
  {
   "cell_type": "markdown",
   "metadata": {},
   "source": [
    "Теперь изучим данные в столбце dob_years(возраст), сгруппировав данные по годам"
   ]
  },
  {
   "cell_type": "code",
   "execution_count": 4,
   "metadata": {},
   "outputs": [
    {
     "output_type": "execute_result",
     "data": {
      "text/plain": "dob_years\n0     101\n19     14\n20     51\n21    111\n22    183\n23    254\n24    264\n25    357\n26    408\n27    493\n28    503\n29    545\n30    540\n31    560\n32    510\n33    581\n34    603\n35    617\n36    555\n37    537\n38    598\n39    573\n40    609\n41    607\n42    597\n43    513\n44    547\n45    497\n46    475\n47    480\n48    538\n49    508\n50    514\n51    448\n52    484\n53    459\n54    479\n55    443\n56    487\n57    460\n58    461\n59    444\n60    377\n61    355\n62    352\n63    269\n64    265\n65    194\n66    183\n67    167\n68     99\n69     85\n70     65\n71     58\n72     33\n73      8\n74      6\n75      1\nName: dob_years, dtype: int64"
     },
     "metadata": {},
     "execution_count": 4
    }
   ],
   "source": [
    "data.groupby('dob_years')['dob_years'].count()"
   ]
  },
  {
   "cell_type": "markdown",
   "metadata": {},
   "source": [
    "Как видим, в таблице имеется 101 запись (менее 0.5% от общего количества) с возрастом 0 лет."
   ]
  },
  {
   "cell_type": "markdown",
   "metadata": {},
   "source": [
    "**Вывод**"
   ]
  },
  {
   "cell_type": "markdown",
   "metadata": {},
   "source": [
    "В столбце days_employed(общий трудовой стаж в днях) большое количество отрицательных значений.\n",
    "\n",
    "Обнаружены пропуски данных в столбцах days_employed(общий трудовой стаж в днях) и total_income(ежемесячный доход). Обращает на себя внимание одинаковое количество пропусков (2174). Следует проверить, какая тут взаимосвязь.\n",
    "\n",
    "В столбцах days_employed и total_income тип данных float64. Как известно, обработка чисел с плавающей точкой более ресурсоемко, чем обработка целых чисел. Для целей исследования достаточно типа int64. Потребуется преобразование.\n",
    "\n",
    "Кроме этого обнаружено, что в столбце education имеются записи в разных регистрах. Потребуется преобразование к одному регистру при поиске дубликатов.\n",
    "\n",
    "Имеются также нереальные данные о детях и возрасте заемщиков, по которым тоже следует провести корректировку."
   ]
  },
  {
   "cell_type": "markdown",
   "metadata": {},
   "source": [
    "## Предобработка данных"
   ]
  },
  {
   "cell_type": "markdown",
   "metadata": {},
   "source": [
    "### Обработка пропусков"
   ]
  },
  {
   "cell_type": "markdown",
   "metadata": {},
   "source": [
    "#### Анализ пропущенных данных"
   ]
  },
  {
   "cell_type": "markdown",
   "metadata": {},
   "source": [
    "Первым делом удалим строки с некорректными данными в столбцах children и dob_years. \n",
    "Общее количество строк с этими данными около 1 %, удаление не повлияет на общую картину."
   ]
  },
  {
   "cell_type": "code",
   "execution_count": 5,
   "metadata": {},
   "outputs": [
    {
     "output_type": "execute_result",
     "data": {
      "text/plain": "0    14149\n1     4818\n2     2055\n3      330\n4       41\n5        9\nName: children, dtype: int64"
     },
     "metadata": {},
     "execution_count": 5
    }
   ],
   "source": [
    "# удаляем строки с некорректным количеством детей и выводим результат\n",
    "data = data.loc[(data.loc[:,'children']>=0)&(data.loc[:,'children']<=10)]\n",
    "data['children'].value_counts()"
   ]
  },
  {
   "cell_type": "code",
   "execution_count": 6,
   "metadata": {},
   "outputs": [
    {
     "output_type": "execute_result",
     "data": {
      "text/plain": "dob_years\n19     14\n20     51\n21    110\n22    183\n23    252\nName: dob_years, dtype: int64"
     },
     "metadata": {},
     "execution_count": 6
    }
   ],
   "source": [
    "# удаляем строки с указанным возрастом менее 18 лет\n",
    "data = data.loc[data.loc[:,'dob_years']>=18]\n",
    "# проверяем, что некорректные данные отфильтровались\n",
    "data.groupby('dob_years')['dob_years'].count().head()"
   ]
  },
  {
   "cell_type": "markdown",
   "metadata": {},
   "source": [
    "Еще раз проверяем данные на наличие пропусков:"
   ]
  },
  {
   "cell_type": "code",
   "execution_count": 7,
   "metadata": {
    "scrolled": true
   },
   "outputs": [
    {
     "output_type": "execute_result",
     "data": {
      "text/plain": "children               0\ndays_employed       2152\ndob_years              0\neducation              0\neducation_id           0\nfamily_status          0\nfamily_status_id       0\ngender                 0\nincome_type            0\ndebt                   0\ntotal_income        2152\npurpose                0\ndtype: int64"
     },
     "metadata": {},
     "execution_count": 7
    }
   ],
   "source": [
    "data.isnull().sum()"
   ]
  },
  {
   "cell_type": "markdown",
   "metadata": {},
   "source": [
    "Теперь проверим строки с пропущенными данными days_employed и total_income, одновременно уточним в одних ли и тех же строках они находятся."
   ]
  },
  {
   "cell_type": "code",
   "execution_count": 8,
   "metadata": {
    "scrolled": true
   },
   "outputs": [
    {
     "output_type": "execute_result",
     "data": {
      "text/plain": "       children  days_employed  dob_years education  education_id  \\\n12            0            NaN         65   среднее             1   \n26            0            NaN         41   среднее             1   \n29            0            NaN         63   среднее             1   \n41            0            NaN         50   среднее             1   \n55            0            NaN         54   среднее             1   \n...         ...            ...        ...       ...           ...   \n21489         2            NaN         47   Среднее             1   \n21495         1            NaN         50   среднее             1   \n21497         0            NaN         48    ВЫСШЕЕ             0   \n21502         1            NaN         42   среднее             1   \n21510         2            NaN         28   среднее             1   \n\n               family_status  family_status_id gender  income_type  debt  \\\n12          гражданский брак                 1      M    пенсионер     0   \n26           женат / замужем                 0      M  госслужащий     0   \n29     Не женат / не замужем                 4      F    пенсионер     0   \n41           женат / замужем                 0      F  госслужащий     0   \n55          гражданский брак                 1      F    пенсионер     1   \n...                      ...               ...    ...          ...   ...   \n21489        женат / замужем                 0      M    компаньон     0   \n21495       гражданский брак                 1      F    сотрудник     0   \n21497        женат / замужем                 0      F    компаньон     0   \n21502        женат / замужем                 0      F    сотрудник     0   \n21510        женат / замужем                 0      F    сотрудник     0   \n\n       total_income                           purpose  \n12              NaN                   сыграть свадьбу  \n26              NaN                       образование  \n29              NaN  строительство жилой недвижимости  \n41              NaN  сделка с подержанным автомобилем  \n55              NaN                   сыграть свадьбу  \n...             ...                               ...  \n21489           NaN              сделка с автомобилем  \n21495           NaN                           свадьба  \n21497           NaN        строительство недвижимости  \n21502           NaN  строительство жилой недвижимости  \n21510           NaN           приобретение автомобиля  \n\n[2152 rows x 12 columns]",
      "text/html": "<div>\n<style scoped>\n    .dataframe tbody tr th:only-of-type {\n        vertical-align: middle;\n    }\n\n    .dataframe tbody tr th {\n        vertical-align: top;\n    }\n\n    .dataframe thead th {\n        text-align: right;\n    }\n</style>\n<table border=\"1\" class=\"dataframe\">\n  <thead>\n    <tr style=\"text-align: right;\">\n      <th></th>\n      <th>children</th>\n      <th>days_employed</th>\n      <th>dob_years</th>\n      <th>education</th>\n      <th>education_id</th>\n      <th>family_status</th>\n      <th>family_status_id</th>\n      <th>gender</th>\n      <th>income_type</th>\n      <th>debt</th>\n      <th>total_income</th>\n      <th>purpose</th>\n    </tr>\n  </thead>\n  <tbody>\n    <tr>\n      <th>12</th>\n      <td>0</td>\n      <td>NaN</td>\n      <td>65</td>\n      <td>среднее</td>\n      <td>1</td>\n      <td>гражданский брак</td>\n      <td>1</td>\n      <td>M</td>\n      <td>пенсионер</td>\n      <td>0</td>\n      <td>NaN</td>\n      <td>сыграть свадьбу</td>\n    </tr>\n    <tr>\n      <th>26</th>\n      <td>0</td>\n      <td>NaN</td>\n      <td>41</td>\n      <td>среднее</td>\n      <td>1</td>\n      <td>женат / замужем</td>\n      <td>0</td>\n      <td>M</td>\n      <td>госслужащий</td>\n      <td>0</td>\n      <td>NaN</td>\n      <td>образование</td>\n    </tr>\n    <tr>\n      <th>29</th>\n      <td>0</td>\n      <td>NaN</td>\n      <td>63</td>\n      <td>среднее</td>\n      <td>1</td>\n      <td>Не женат / не замужем</td>\n      <td>4</td>\n      <td>F</td>\n      <td>пенсионер</td>\n      <td>0</td>\n      <td>NaN</td>\n      <td>строительство жилой недвижимости</td>\n    </tr>\n    <tr>\n      <th>41</th>\n      <td>0</td>\n      <td>NaN</td>\n      <td>50</td>\n      <td>среднее</td>\n      <td>1</td>\n      <td>женат / замужем</td>\n      <td>0</td>\n      <td>F</td>\n      <td>госслужащий</td>\n      <td>0</td>\n      <td>NaN</td>\n      <td>сделка с подержанным автомобилем</td>\n    </tr>\n    <tr>\n      <th>55</th>\n      <td>0</td>\n      <td>NaN</td>\n      <td>54</td>\n      <td>среднее</td>\n      <td>1</td>\n      <td>гражданский брак</td>\n      <td>1</td>\n      <td>F</td>\n      <td>пенсионер</td>\n      <td>1</td>\n      <td>NaN</td>\n      <td>сыграть свадьбу</td>\n    </tr>\n    <tr>\n      <th>...</th>\n      <td>...</td>\n      <td>...</td>\n      <td>...</td>\n      <td>...</td>\n      <td>...</td>\n      <td>...</td>\n      <td>...</td>\n      <td>...</td>\n      <td>...</td>\n      <td>...</td>\n      <td>...</td>\n      <td>...</td>\n    </tr>\n    <tr>\n      <th>21489</th>\n      <td>2</td>\n      <td>NaN</td>\n      <td>47</td>\n      <td>Среднее</td>\n      <td>1</td>\n      <td>женат / замужем</td>\n      <td>0</td>\n      <td>M</td>\n      <td>компаньон</td>\n      <td>0</td>\n      <td>NaN</td>\n      <td>сделка с автомобилем</td>\n    </tr>\n    <tr>\n      <th>21495</th>\n      <td>1</td>\n      <td>NaN</td>\n      <td>50</td>\n      <td>среднее</td>\n      <td>1</td>\n      <td>гражданский брак</td>\n      <td>1</td>\n      <td>F</td>\n      <td>сотрудник</td>\n      <td>0</td>\n      <td>NaN</td>\n      <td>свадьба</td>\n    </tr>\n    <tr>\n      <th>21497</th>\n      <td>0</td>\n      <td>NaN</td>\n      <td>48</td>\n      <td>ВЫСШЕЕ</td>\n      <td>0</td>\n      <td>женат / замужем</td>\n      <td>0</td>\n      <td>F</td>\n      <td>компаньон</td>\n      <td>0</td>\n      <td>NaN</td>\n      <td>строительство недвижимости</td>\n    </tr>\n    <tr>\n      <th>21502</th>\n      <td>1</td>\n      <td>NaN</td>\n      <td>42</td>\n      <td>среднее</td>\n      <td>1</td>\n      <td>женат / замужем</td>\n      <td>0</td>\n      <td>F</td>\n      <td>сотрудник</td>\n      <td>0</td>\n      <td>NaN</td>\n      <td>строительство жилой недвижимости</td>\n    </tr>\n    <tr>\n      <th>21510</th>\n      <td>2</td>\n      <td>NaN</td>\n      <td>28</td>\n      <td>среднее</td>\n      <td>1</td>\n      <td>женат / замужем</td>\n      <td>0</td>\n      <td>F</td>\n      <td>сотрудник</td>\n      <td>0</td>\n      <td>NaN</td>\n      <td>приобретение автомобиля</td>\n    </tr>\n  </tbody>\n</table>\n<p>2152 rows × 12 columns</p>\n</div>"
     },
     "metadata": {},
     "execution_count": 8
    }
   ],
   "source": [
    "# ищем строки, где одновременно пропущены данные по стажу работы и доходам\n",
    "data[(data['days_employed'].isnull()) & (data['total_income'].isnull())]\n"
   ]
  },
  {
   "cell_type": "markdown",
   "metadata": {},
   "source": [
    "Количество строк точно сходится с количеством пропущенных данных в days_employed и total_income\n",
    "Как видим, пустые значения одновременно появляются в столбцах о трудовом стаже и общем доходе, т.е. это пропуски взаимосвязанные по какой-то причине. \n",
    "\n",
    "Возможная причина в том,что при вводе информации о заемщике или при ее сохранении days_employed и total_income влияют друг на друга. \n",
    "Например при вводе нулевого трудового стажа(days_employed) не открывается поле для заполнения ежемесячного дохода(total_income) или наоборот."
   ]
  },
  {
   "cell_type": "markdown",
   "metadata": {},
   "source": [
    "#### Замена пропущенных данных"
   ]
  },
  {
   "cell_type": "markdown",
   "metadata": {},
   "source": [
    "Т.к. взаимосвязь своевременности возврата кредита и трудового стажа нами не исследуется, то значения в этом столбце не повлияют на исследования. Исходя из этого столбец можно было бы полностью удалить. Однако, возможно он будет полезен при поиске дубликатов. \n",
    "Заменим пропущенные значения в days_employed на нулевые. "
   ]
  },
  {
   "cell_type": "code",
   "execution_count": 9,
   "metadata": {
    "scrolled": true
   },
   "outputs": [
    {
     "output_type": "execute_result",
     "data": {
      "text/plain": "0"
     },
     "metadata": {},
     "execution_count": 9
    }
   ],
   "source": [
    "data['days_employed'].fillna(0,inplace = True)\n",
    "# проверяем наличие пропусков после замены\n",
    "data['days_employed'].isna().sum()\n"
   ]
  },
  {
   "cell_type": "code",
   "execution_count": 10,
   "metadata": {},
   "outputs": [
    {
     "output_type": "execute_result",
     "data": {
      "text/plain": "   children  days_employed  dob_years education  education_id  \\\n0         1   -8437.673028         42    высшее             0   \n1         1   -4024.803754         36   среднее             1   \n2         0   -5623.422610         33   Среднее             1   \n3         3   -4124.747207         32   среднее             1   \n4         0  340266.072047         53   среднее             1   \n\n      family_status  family_status_id gender income_type  debt   total_income  \\\n0   женат / замужем                 0      F   сотрудник     0  253875.639453   \n1   женат / замужем                 0      F   сотрудник     0  112080.014102   \n2   женат / замужем                 0      M   сотрудник     0  145885.952297   \n3   женат / замужем                 0      M   сотрудник     0  267628.550329   \n4  гражданский брак                 1      F   пенсионер     0  158616.077870   \n\n                      purpose  \n0               покупка жилья  \n1     приобретение автомобиля  \n2               покупка жилья  \n3  дополнительное образование  \n4             сыграть свадьбу  ",
      "text/html": "<div>\n<style scoped>\n    .dataframe tbody tr th:only-of-type {\n        vertical-align: middle;\n    }\n\n    .dataframe tbody tr th {\n        vertical-align: top;\n    }\n\n    .dataframe thead th {\n        text-align: right;\n    }\n</style>\n<table border=\"1\" class=\"dataframe\">\n  <thead>\n    <tr style=\"text-align: right;\">\n      <th></th>\n      <th>children</th>\n      <th>days_employed</th>\n      <th>dob_years</th>\n      <th>education</th>\n      <th>education_id</th>\n      <th>family_status</th>\n      <th>family_status_id</th>\n      <th>gender</th>\n      <th>income_type</th>\n      <th>debt</th>\n      <th>total_income</th>\n      <th>purpose</th>\n    </tr>\n  </thead>\n  <tbody>\n    <tr>\n      <th>0</th>\n      <td>1</td>\n      <td>-8437.673028</td>\n      <td>42</td>\n      <td>высшее</td>\n      <td>0</td>\n      <td>женат / замужем</td>\n      <td>0</td>\n      <td>F</td>\n      <td>сотрудник</td>\n      <td>0</td>\n      <td>253875.639453</td>\n      <td>покупка жилья</td>\n    </tr>\n    <tr>\n      <th>1</th>\n      <td>1</td>\n      <td>-4024.803754</td>\n      <td>36</td>\n      <td>среднее</td>\n      <td>1</td>\n      <td>женат / замужем</td>\n      <td>0</td>\n      <td>F</td>\n      <td>сотрудник</td>\n      <td>0</td>\n      <td>112080.014102</td>\n      <td>приобретение автомобиля</td>\n    </tr>\n    <tr>\n      <th>2</th>\n      <td>0</td>\n      <td>-5623.422610</td>\n      <td>33</td>\n      <td>Среднее</td>\n      <td>1</td>\n      <td>женат / замужем</td>\n      <td>0</td>\n      <td>M</td>\n      <td>сотрудник</td>\n      <td>0</td>\n      <td>145885.952297</td>\n      <td>покупка жилья</td>\n    </tr>\n    <tr>\n      <th>3</th>\n      <td>3</td>\n      <td>-4124.747207</td>\n      <td>32</td>\n      <td>среднее</td>\n      <td>1</td>\n      <td>женат / замужем</td>\n      <td>0</td>\n      <td>M</td>\n      <td>сотрудник</td>\n      <td>0</td>\n      <td>267628.550329</td>\n      <td>дополнительное образование</td>\n    </tr>\n    <tr>\n      <th>4</th>\n      <td>0</td>\n      <td>340266.072047</td>\n      <td>53</td>\n      <td>среднее</td>\n      <td>1</td>\n      <td>гражданский брак</td>\n      <td>1</td>\n      <td>F</td>\n      <td>пенсионер</td>\n      <td>0</td>\n      <td>158616.077870</td>\n      <td>сыграть свадьбу</td>\n    </tr>\n  </tbody>\n</table>\n</div>"
     },
     "metadata": {},
     "execution_count": 10
    }
   ],
   "source": [
    "# проверяем результат замены визуально\n",
    "data.head()"
   ]
  },
  {
   "cell_type": "markdown",
   "metadata": {},
   "source": [
    "Для принятия решения по замене пропусков в столбце total_income посчитаем среднее и медианное значение"
   ]
  },
  {
   "cell_type": "code",
   "execution_count": 11,
   "metadata": {
    "scrolled": true,
    "tags": []
   },
   "outputs": [
    {
     "output_type": "stream",
     "name": "stdout",
     "text": "Среднее значение     167493.77\nМедианное значение   145020.80\nСреднее значение превышает медианное на 15%\n"
    }
   ],
   "source": [
    "total_income_mean = data['total_income'].mean()\n",
    "total_income_median = data['total_income'].median()\n",
    "diference = (total_income_mean - total_income_median)/total_income_median\n",
    "print('Среднее значение     {:.2f}'.format(total_income_mean))\n",
    "print('Медианное значение   {:.2f}'.format(total_income_median))\n",
    "print('Среднее значение превышает медианное на {:.0%}'.format(diference))"
   ]
  },
  {
   "cell_type": "markdown",
   "metadata": {},
   "source": [
    "т.е. среди заемщиков есть небольшое количество со значительно большими доходами, чем у остальных. Следовательно, для замены пропущеных данных предпочтительно использовать медианное значение, т.к. это внесет меньше искажений."
   ]
  },
  {
   "cell_type": "code",
   "execution_count": 12,
   "metadata": {},
   "outputs": [
    {
     "output_type": "execute_result",
     "data": {
      "text/plain": "   children  days_employed  dob_years education  education_id  \\\n0         1   -8437.673028         42    высшее             0   \n1         1   -4024.803754         36   среднее             1   \n2         0   -5623.422610         33   Среднее             1   \n3         3   -4124.747207         32   среднее             1   \n4         0  340266.072047         53   среднее             1   \n\n      family_status  family_status_id gender income_type  debt   total_income  \\\n0   женат / замужем                 0      F   сотрудник     0  253875.639453   \n1   женат / замужем                 0      F   сотрудник     0  112080.014102   \n2   женат / замужем                 0      M   сотрудник     0  145885.952297   \n3   женат / замужем                 0      M   сотрудник     0  267628.550329   \n4  гражданский брак                 1      F   пенсионер     0  158616.077870   \n\n                      purpose  \n0               покупка жилья  \n1     приобретение автомобиля  \n2               покупка жилья  \n3  дополнительное образование  \n4             сыграть свадьбу  ",
      "text/html": "<div>\n<style scoped>\n    .dataframe tbody tr th:only-of-type {\n        vertical-align: middle;\n    }\n\n    .dataframe tbody tr th {\n        vertical-align: top;\n    }\n\n    .dataframe thead th {\n        text-align: right;\n    }\n</style>\n<table border=\"1\" class=\"dataframe\">\n  <thead>\n    <tr style=\"text-align: right;\">\n      <th></th>\n      <th>children</th>\n      <th>days_employed</th>\n      <th>dob_years</th>\n      <th>education</th>\n      <th>education_id</th>\n      <th>family_status</th>\n      <th>family_status_id</th>\n      <th>gender</th>\n      <th>income_type</th>\n      <th>debt</th>\n      <th>total_income</th>\n      <th>purpose</th>\n    </tr>\n  </thead>\n  <tbody>\n    <tr>\n      <th>0</th>\n      <td>1</td>\n      <td>-8437.673028</td>\n      <td>42</td>\n      <td>высшее</td>\n      <td>0</td>\n      <td>женат / замужем</td>\n      <td>0</td>\n      <td>F</td>\n      <td>сотрудник</td>\n      <td>0</td>\n      <td>253875.639453</td>\n      <td>покупка жилья</td>\n    </tr>\n    <tr>\n      <th>1</th>\n      <td>1</td>\n      <td>-4024.803754</td>\n      <td>36</td>\n      <td>среднее</td>\n      <td>1</td>\n      <td>женат / замужем</td>\n      <td>0</td>\n      <td>F</td>\n      <td>сотрудник</td>\n      <td>0</td>\n      <td>112080.014102</td>\n      <td>приобретение автомобиля</td>\n    </tr>\n    <tr>\n      <th>2</th>\n      <td>0</td>\n      <td>-5623.422610</td>\n      <td>33</td>\n      <td>Среднее</td>\n      <td>1</td>\n      <td>женат / замужем</td>\n      <td>0</td>\n      <td>M</td>\n      <td>сотрудник</td>\n      <td>0</td>\n      <td>145885.952297</td>\n      <td>покупка жилья</td>\n    </tr>\n    <tr>\n      <th>3</th>\n      <td>3</td>\n      <td>-4124.747207</td>\n      <td>32</td>\n      <td>среднее</td>\n      <td>1</td>\n      <td>женат / замужем</td>\n      <td>0</td>\n      <td>M</td>\n      <td>сотрудник</td>\n      <td>0</td>\n      <td>267628.550329</td>\n      <td>дополнительное образование</td>\n    </tr>\n    <tr>\n      <th>4</th>\n      <td>0</td>\n      <td>340266.072047</td>\n      <td>53</td>\n      <td>среднее</td>\n      <td>1</td>\n      <td>гражданский брак</td>\n      <td>1</td>\n      <td>F</td>\n      <td>пенсионер</td>\n      <td>0</td>\n      <td>158616.077870</td>\n      <td>сыграть свадьбу</td>\n    </tr>\n  </tbody>\n</table>\n</div>"
     },
     "metadata": {},
     "execution_count": 12
    }
   ],
   "source": [
    "# заменяем пропуски в total_income медианным значением и смотрим результат \n",
    "data['total_income'].fillna(total_income_median,inplace = True)\n",
    "data.head()"
   ]
  },
  {
   "cell_type": "markdown",
   "metadata": {},
   "source": [
    "**Вывод**"
   ]
  },
  {
   "cell_type": "markdown",
   "metadata": {},
   "source": [
    "По результатам изучения пропусков пропущенные данные в столбце ежемесячного дохода заемщика заменены на медианные значения, а пропущенные данные о стаже работы - на нулевые. Отрицательные данные по стажу работы решено не удалять."
   ]
  },
  {
   "cell_type": "markdown",
   "metadata": {},
   "source": [
    "### Замена типа данных"
   ]
  },
  {
   "cell_type": "markdown",
   "metadata": {},
   "source": [
    "Заменим тип данных в столбце days_employe и total_income на int64, т.к. точность float64 не является необходимой для нашего исследования."
   ]
  },
  {
   "cell_type": "code",
   "execution_count": 13,
   "metadata": {
    "scrolled": true,
    "tags": []
   },
   "outputs": [
    {
     "output_type": "stream",
     "name": "stdout",
     "text": "<class 'pandas.core.frame.DataFrame'>\nInt64Index: 21302 entries, 0 to 21524\nData columns (total 12 columns):\n #   Column            Non-Null Count  Dtype \n---  ------            --------------  ----- \n 0   children          21302 non-null  int64 \n 1   days_employed     21302 non-null  int64 \n 2   dob_years         21302 non-null  int64 \n 3   education         21302 non-null  object\n 4   education_id      21302 non-null  int64 \n 5   family_status     21302 non-null  object\n 6   family_status_id  21302 non-null  int64 \n 7   gender            21302 non-null  object\n 8   income_type       21302 non-null  object\n 9   debt              21302 non-null  int64 \n 10  total_income      21302 non-null  int64 \n 11  purpose           21302 non-null  object\ndtypes: int64(7), object(5)\nmemory usage: 2.1+ MB\n"
    }
   ],
   "source": [
    "# создаем словарь для передачи в аргумент метода .astype()\n",
    "conv_dict = {'days_employed':'int64','total_income':'int64'}  \n",
    "# меняем тип данных в столбцах, перечисленных в словаре \n",
    "data = data.astype(conv_dict)\n",
    "# выводим результаты\n",
    "data.info()\n"
   ]
  },
  {
   "cell_type": "markdown",
   "metadata": {},
   "source": [
    "**Вывод**"
   ]
  },
  {
   "cell_type": "markdown",
   "metadata": {},
   "source": [
    "Числовые данные с плавающей точкой, необходимые для исследования, преобразованы в целые."
   ]
  },
  {
   "cell_type": "markdown",
   "metadata": {},
   "source": [
    "### Обработка дубликатов"
   ]
  },
  {
   "cell_type": "markdown",
   "metadata": {},
   "source": [
    "Проверим наличие строк-дубликатов в наших данных:"
   ]
  },
  {
   "cell_type": "code",
   "execution_count": 14,
   "metadata": {},
   "outputs": [
    {
     "output_type": "execute_result",
     "data": {
      "text/plain": "54"
     },
     "metadata": {},
     "execution_count": 14
    }
   ],
   "source": [
    "data.duplicated().sum()"
   ]
  },
  {
   "cell_type": "markdown",
   "metadata": {},
   "source": [
    "Однако, из-за наличия текстовых данных записаных в разных регистрах, мы можем пропустить некоторые дубликаты.\n",
    "\n",
    "Посмотрим, какие уникальные значения попадаются в столбцах education, family_status и income_type со строковым типом данных"
   ]
  },
  {
   "cell_type": "code",
   "execution_count": 15,
   "metadata": {},
   "outputs": [
    {
     "output_type": "execute_result",
     "data": {
      "text/plain": "array(['высшее', 'среднее', 'Среднее', 'СРЕДНЕЕ', 'ВЫСШЕЕ',\n       'неоконченное высшее', 'начальное', 'Высшее',\n       'НЕОКОНЧЕННОЕ ВЫСШЕЕ', 'Неоконченное высшее', 'НАЧАЛЬНОЕ',\n       'Начальное', 'Ученая степень', 'УЧЕНАЯ СТЕПЕНЬ', 'ученая степень'],\n      dtype=object)"
     },
     "metadata": {},
     "execution_count": 15
    }
   ],
   "source": [
    "data['education'].unique()"
   ]
  },
  {
   "cell_type": "code",
   "execution_count": 16,
   "metadata": {},
   "outputs": [
    {
     "output_type": "execute_result",
     "data": {
      "text/plain": "array(['женат / замужем', 'гражданский брак', 'вдовец / вдова',\n       'в разводе', 'Не женат / не замужем'], dtype=object)"
     },
     "metadata": {},
     "execution_count": 16
    }
   ],
   "source": [
    "data['family_status'].unique()"
   ]
  },
  {
   "cell_type": "code",
   "execution_count": 17,
   "metadata": {
    "scrolled": true
   },
   "outputs": [
    {
     "output_type": "execute_result",
     "data": {
      "text/plain": "array(['сотрудник', 'пенсионер', 'компаньон', 'госслужащий',\n       'безработный', 'предприниматель', 'студент', 'в декрете'],\n      dtype=object)"
     },
     "metadata": {},
     "execution_count": 17
    }
   ],
   "source": [
    "data['income_type'].unique()"
   ]
  },
  {
   "cell_type": "markdown",
   "metadata": {},
   "source": [
    "Как видим, до поиска дубликатов необходимо преобразовать данные в столбце education к одному регистру"
   ]
  },
  {
   "cell_type": "code",
   "execution_count": 18,
   "metadata": {
    "scrolled": true
   },
   "outputs": [
    {
     "output_type": "execute_result",
     "data": {
      "text/plain": "array(['высшее', 'среднее', 'неоконченное высшее', 'начальное',\n       'ученая степень'], dtype=object)"
     },
     "metadata": {},
     "execution_count": 18
    }
   ],
   "source": [
    "data['education'] = data['education'].str.lower()\n",
    "data['education'].unique() # проверяем результат"
   ]
  },
  {
   "cell_type": "markdown",
   "metadata": {},
   "source": [
    "Проверяем наличие строк-дубликатов в данных и методом .sum() определяем их количество"
   ]
  },
  {
   "cell_type": "code",
   "execution_count": 19,
   "metadata": {},
   "outputs": [
    {
     "output_type": "execute_result",
     "data": {
      "text/plain": "71"
     },
     "metadata": {},
     "execution_count": 19
    }
   ],
   "source": [
    "data.duplicated().sum()"
   ]
  },
  {
   "cell_type": "markdown",
   "metadata": {},
   "source": [
    "Как видим, количество выявленных дубликатов увеличилось.\n",
    "\n",
    "Полагая, что у разных заемщиков случайное совпадение по всем 12ти столбцам данных маловероятно, удаляем выявленные дубликаты."
   ]
  },
  {
   "cell_type": "code",
   "execution_count": 20,
   "metadata": {},
   "outputs": [],
   "source": [
    "data = data.drop_duplicates().reset_index(drop=True)"
   ]
  },
  {
   "cell_type": "markdown",
   "metadata": {},
   "source": [
    "Проверяем наличие дубликатов после удаления."
   ]
  },
  {
   "cell_type": "code",
   "execution_count": 21,
   "metadata": {},
   "outputs": [
    {
     "output_type": "execute_result",
     "data": {
      "text/plain": "0"
     },
     "metadata": {},
     "execution_count": 21
    }
   ],
   "source": [
    "data.duplicated().sum()"
   ]
  },
  {
   "cell_type": "markdown",
   "metadata": {},
   "source": [
    "**Вывод**"
   ]
  },
  {
   "cell_type": "markdown",
   "metadata": {},
   "source": [
    "Ввод текстовых данных в разных регистрах может маскировать имеющиеся дубликаты.\n",
    "Дубликаты удалены."
   ]
  },
  {
   "cell_type": "markdown",
   "metadata": {},
   "source": [
    "### Лемматизация"
   ]
  },
  {
   "cell_type": "markdown",
   "metadata": {},
   "source": [
    "Рассмотрим данные в столбце purpose(цель получения кредита)"
   ]
  },
  {
   "cell_type": "code",
   "execution_count": 22,
   "metadata": {
    "scrolled": true
   },
   "outputs": [
    {
     "output_type": "execute_result",
     "data": {
      "text/plain": "array(['покупка жилья', 'приобретение автомобиля',\n       'дополнительное образование', 'сыграть свадьбу',\n       'операции с жильем', 'образование', 'на проведение свадьбы',\n       'покупка жилья для семьи', 'покупка недвижимости',\n       'покупка коммерческой недвижимости', 'покупка жилой недвижимости',\n       'строительство собственной недвижимости', 'недвижимость',\n       'строительство недвижимости', 'на покупку подержанного автомобиля',\n       'на покупку своего автомобиля',\n       'операции с коммерческой недвижимостью',\n       'строительство жилой недвижимости', 'жилье',\n       'операции со своей недвижимостью', 'автомобили',\n       'заняться образованием', 'сделка с подержанным автомобилем',\n       'получение образования', 'автомобиль', 'свадьба',\n       'получение дополнительного образования', 'покупка своего жилья',\n       'операции с недвижимостью', 'получение высшего образования',\n       'свой автомобиль', 'сделка с автомобилем',\n       'профильное образование', 'высшее образование',\n       'покупка жилья для сдачи', 'на покупку автомобиля', 'ремонт жилью',\n       'заняться высшим образованием'], dtype=object)"
     },
     "metadata": {},
     "execution_count": 22
    }
   ],
   "source": [
    "purpose_unique = data['purpose'].unique()\n",
    "purpose_unique"
   ]
  },
  {
   "cell_type": "markdown",
   "metadata": {},
   "source": [
    "Заметно, что по сути целей не так уж и много, но из-за использования разных формулировок анализ будет затруднен. \n",
    "Для унификации целей займемся лемматизацией данных в этом столбце. \n",
    "Для начала подсчитаем количество уникальных лемм "
   ]
  },
  {
   "cell_type": "code",
   "execution_count": 23,
   "metadata": {
    "scrolled": false,
    "tags": []
   },
   "outputs": [
    {
     "output_type": "stream",
     "name": "stdout",
     "text": "Counter({' ': 96,\n         'покупка': 10,\n         'недвижимость': 10,\n         'автомобиль': 9,\n         'образование': 9,\n         'жилье': 7,\n         'с': 5,\n         'операция': 4,\n         'на': 4,\n         'свой': 4,\n         'свадьба': 3,\n         'строительство': 3,\n         'получение': 3,\n         'высокий': 3,\n         'дополнительный': 2,\n         'для': 2,\n         'коммерческий': 2,\n         'жилой': 2,\n         'подержать': 2,\n         'заниматься': 2,\n         'сделка': 2,\n         'приобретение': 1,\n         'сыграть': 1,\n         'проведение': 1,\n         'семья': 1,\n         'собственный': 1,\n         'со': 1,\n         'профильный': 1,\n         'сдача': 1,\n         'ремонт': 1,\n         '\\n': 1})\n"
    }
   ],
   "source": [
    "# импортируем библиотеку pymystem3:\n",
    "import pprint\n",
    "from pymystem3 import Mystem\n",
    "m = Mystem()\n",
    "\n",
    "# подключим счетчик различных значений в списке:\n",
    "from collections import Counter\n",
    "\n",
    "# посчитаем, сколько каких слов встречается среди уникальных значений поля purpose\n",
    "lemmas_list = m.lemmatize(' '.join(data['purpose'].unique()))\n",
    "\n",
    "pprint.pprint(Counter(lemmas_list))\n",
    "    "
   ]
  },
  {
   "cell_type": "markdown",
   "metadata": {},
   "source": [
    "Ориентируясь на список уникальных значений в столбце purpose и результаты подсчета составим список, который содержит основные цели получения кредита. На основе этого списка вручную создадим дополнительный столбец main_purpose с данными, который заполним при помощи метода apply()  "
   ]
  },
  {
   "cell_type": "code",
   "execution_count": 24,
   "metadata": {},
   "outputs": [
    {
     "output_type": "execute_result",
     "data": {
      "text/plain": "   children  days_employed  dob_years education  education_id  \\\n0         1          -8437         42    высшее             0   \n1         1          -4024         36   среднее             1   \n2         0          -5623         33   среднее             1   \n3         3          -4124         32   среднее             1   \n4         0         340266         53   среднее             1   \n\n      family_status  family_status_id gender income_type  debt  total_income  \\\n0   женат / замужем                 0      F   сотрудник     0        253875   \n1   женат / замужем                 0      F   сотрудник     0        112080   \n2   женат / замужем                 0      M   сотрудник     0        145885   \n3   женат / замужем                 0      M   сотрудник     0        267628   \n4  гражданский брак                 1      F   пенсионер     0        158616   \n\n                      purpose                     main_purpose  \n0               покупка жилья  приобретение жилой недвижимости  \n1     приобретение автомобиля          приобретение автомобиля  \n2               покупка жилья  приобретение жилой недвижимости  \n3  дополнительное образование               оплата образования  \n4             сыграть свадьбу               расходы на свадьбу  ",
      "text/html": "<div>\n<style scoped>\n    .dataframe tbody tr th:only-of-type {\n        vertical-align: middle;\n    }\n\n    .dataframe tbody tr th {\n        vertical-align: top;\n    }\n\n    .dataframe thead th {\n        text-align: right;\n    }\n</style>\n<table border=\"1\" class=\"dataframe\">\n  <thead>\n    <tr style=\"text-align: right;\">\n      <th></th>\n      <th>children</th>\n      <th>days_employed</th>\n      <th>dob_years</th>\n      <th>education</th>\n      <th>education_id</th>\n      <th>family_status</th>\n      <th>family_status_id</th>\n      <th>gender</th>\n      <th>income_type</th>\n      <th>debt</th>\n      <th>total_income</th>\n      <th>purpose</th>\n      <th>main_purpose</th>\n    </tr>\n  </thead>\n  <tbody>\n    <tr>\n      <th>0</th>\n      <td>1</td>\n      <td>-8437</td>\n      <td>42</td>\n      <td>высшее</td>\n      <td>0</td>\n      <td>женат / замужем</td>\n      <td>0</td>\n      <td>F</td>\n      <td>сотрудник</td>\n      <td>0</td>\n      <td>253875</td>\n      <td>покупка жилья</td>\n      <td>приобретение жилой недвижимости</td>\n    </tr>\n    <tr>\n      <th>1</th>\n      <td>1</td>\n      <td>-4024</td>\n      <td>36</td>\n      <td>среднее</td>\n      <td>1</td>\n      <td>женат / замужем</td>\n      <td>0</td>\n      <td>F</td>\n      <td>сотрудник</td>\n      <td>0</td>\n      <td>112080</td>\n      <td>приобретение автомобиля</td>\n      <td>приобретение автомобиля</td>\n    </tr>\n    <tr>\n      <th>2</th>\n      <td>0</td>\n      <td>-5623</td>\n      <td>33</td>\n      <td>среднее</td>\n      <td>1</td>\n      <td>женат / замужем</td>\n      <td>0</td>\n      <td>M</td>\n      <td>сотрудник</td>\n      <td>0</td>\n      <td>145885</td>\n      <td>покупка жилья</td>\n      <td>приобретение жилой недвижимости</td>\n    </tr>\n    <tr>\n      <th>3</th>\n      <td>3</td>\n      <td>-4124</td>\n      <td>32</td>\n      <td>среднее</td>\n      <td>1</td>\n      <td>женат / замужем</td>\n      <td>0</td>\n      <td>M</td>\n      <td>сотрудник</td>\n      <td>0</td>\n      <td>267628</td>\n      <td>дополнительное образование</td>\n      <td>оплата образования</td>\n    </tr>\n    <tr>\n      <th>4</th>\n      <td>0</td>\n      <td>340266</td>\n      <td>53</td>\n      <td>среднее</td>\n      <td>1</td>\n      <td>гражданский брак</td>\n      <td>1</td>\n      <td>F</td>\n      <td>пенсионер</td>\n      <td>0</td>\n      <td>158616</td>\n      <td>сыграть свадьбу</td>\n      <td>расходы на свадьбу</td>\n    </tr>\n  </tbody>\n</table>\n</div>"
     },
     "metadata": {},
     "execution_count": 24
    }
   ],
   "source": [
    "# создаем список основных выявленных лемм\n",
    "main_purpose_list = ['коммерческий',\n",
    "                     'недвижимость','автомобиль','образование','жилье','свадьба','строительство','ремонт']\n",
    "\n",
    "# функция для сокращения списка целей кредита\n",
    "def main_purpose(purpose):\n",
    "    lemmas = m.lemmatize(purpose)\n",
    "    for word in lemmas:\n",
    "        if word in main_purpose_list:\n",
    "            return  word\n",
    "\n",
    "# функция для разделения целей кредита по выбранным категориям\n",
    "def purpose_category(main_purpose):\n",
    "    if main_purpose == 'коммерческий':\n",
    "        category = 'приобретение коммерческой недвижимости'\n",
    "    elif main_purpose == 'недвижимость' or main_purpose == 'жилье':\n",
    "        category = 'приобретение жилой недвижимости'\n",
    "    elif main_purpose == 'автомобиль':\n",
    "        category = 'приобретение автомобиля'\n",
    "    elif main_purpose == 'образование':\n",
    "        category = 'оплата образования'\n",
    "    elif main_purpose == 'свадьба':\n",
    "        category = 'расходы на свадьбу'\n",
    "    elif main_purpose == 'строительство':\n",
    "        category = 'строительство недвижимости'\n",
    "    elif main_purpose == 'ремонт':\n",
    "        category = 'ремонт недвижимости'    \n",
    "    else:\n",
    "        category = main_purpose\n",
    "    return category\n",
    "\n",
    "# создаем дополнительный столбец с основными целями кредита\n",
    "data['main_purpose'] = data['purpose'].apply(main_purpose)\n",
    "\n",
    "# уточняем и заменяем цели кредита, содавая названия категорий\n",
    "data['main_purpose'] = data['main_purpose'].apply(purpose_category)\n",
    "\n",
    "# смотрим результат\n",
    "data.head()"
   ]
  },
  {
   "cell_type": "markdown",
   "metadata": {},
   "source": [
    "**Вывод**"
   ]
  },
  {
   "cell_type": "markdown",
   "metadata": {},
   "source": [
    "В результате лемматизации уточнен список категорий в отношении целей кредитования"
   ]
  },
  {
   "cell_type": "markdown",
   "metadata": {},
   "source": [
    "### Категоризация данных"
   ]
  },
  {
   "cell_type": "markdown",
   "metadata": {},
   "source": [
    "В соответствии с поставленными вопросами целесообразно разделить данные по следующим категориям - количество детей, семейное положение, ежемесячный доход и цель кредитования.\n",
    "\n",
    "Рассмотрим данные по детям."
   ]
  },
  {
   "cell_type": "code",
   "execution_count": 25,
   "metadata": {
    "scrolled": false,
    "tags": []
   },
   "outputs": [
    {
     "output_type": "stream",
     "name": "stdout",
     "text": "0    14022\n1     4792\n2     2039\n3      328\n4       41\n5        9\nName: children, dtype: int64\n"
    }
   ],
   "source": [
    "# оценим количество детей у обратившихся за кредитом\n",
    "print(data['children'].value_counts())"
   ]
  },
  {
   "cell_type": "markdown",
   "metadata": {},
   "source": [
    "Логично выделить четыре категории кредиторов: без детей, один ребенок, два ребенка, многодетные (т.к. кредиторов с тремя и более детьми на один-два порядка меньше, чем в других категориях). \n",
    "Добавим в таблицу соответствующий столбец, назначим ему категориальный тип данных и определим порядок следования категорий для дальнейшего вывода."
   ]
  },
  {
   "cell_type": "code",
   "execution_count": 26,
   "metadata": {},
   "outputs": [],
   "source": [
    "def children_category(children):\n",
    "    if children == 0:\n",
    "        category = 'бездетный'\n",
    "    elif children == 1:\n",
    "        category = 'один ребенок'\n",
    "    elif children == 2:\n",
    "        category = 'два ребенка'\n",
    "    else:\n",
    "        category = 'многодетный'\n",
    "    return category\n",
    "\n",
    "\n",
    "data['children_category'] = data['children'].apply(children_category).astype('category')\n",
    "data['children_category'].cat.set_categories(['бездетный', 'один ребенок', 'два ребенка', 'многодетный'], inplace=True)"
   ]
  },
  {
   "cell_type": "markdown",
   "metadata": {},
   "source": [
    "Введем категории по семейному положению и просмотрим количество данных по каждой категории"
   ]
  },
  {
   "cell_type": "code",
   "execution_count": 27,
   "metadata": {
    "tags": []
   },
   "outputs": [
    {
     "output_type": "stream",
     "name": "stdout",
     "text": "женат / замужем          12213\nгражданский брак          4113\nНе женат / не замужем     2780\nв разводе                 1179\nвдовец / вдова             946\nName: family_status, dtype: int64\n"
    }
   ],
   "source": [
    "data['family_status'] = data['family_status'].astype('category')\n",
    "data['family_status'].cat.set_categories(['женат / замужем', 'гражданский брак',\n",
    "                                          'Не женат / не замужем', 'в разводе','вдовец / вдова'], \n",
    "                                         inplace=True\n",
    "                                        )\n",
    "print(data['family_status'].value_counts())"
   ]
  },
  {
   "cell_type": "markdown",
   "metadata": {},
   "source": [
    "Разделим уровень дохода заемщиков на три категории. Т.к. такого официального разделения найти не удалось, а также учитывая, что в различных регионах такое деление может отличаться примем доход заемщика менее 40 т.р. за низкий, более 150 т.р. за высокий, а более 500 т.р за очень высокий. "
   ]
  },
  {
   "cell_type": "code",
   "execution_count": 28,
   "metadata": {},
   "outputs": [],
   "source": [
    "def income_category(income):\n",
    "    if income < 40000:\n",
    "        category = 'низкий доход'\n",
    "    elif 40000 <= income < 150000:\n",
    "        category = 'средний доход'\n",
    "    elif 150000 <= income < 500000:\n",
    "        category = 'высокий доход'\n",
    "    else:\n",
    "        category = 'оч высокий доход'\n",
    "    return category\n",
    "\n",
    "data['income_category'] = data['total_income'].apply(income_category).astype('category')\n",
    "data['income_category'].cat.set_categories(['низкий доход','средний доход','высокий доход','оч высокий доход'],inplace=True)"
   ]
  },
  {
   "cell_type": "markdown",
   "metadata": {},
   "source": [
    "Также назначим категориальный тип столбцу с определенными целями кредита. Порядок следования оставим по умолчанию (по алфавиту)."
   ]
  },
  {
   "cell_type": "code",
   "execution_count": 29,
   "metadata": {
    "scrolled": true
   },
   "outputs": [],
   "source": [
    "data['main_purpose'] = data['main_purpose'].astype('category')"
   ]
  },
  {
   "cell_type": "markdown",
   "metadata": {},
   "source": [
    "**Вывод**"
   ]
  },
  {
   "cell_type": "markdown",
   "metadata": {},
   "source": [
    "Подготовлены категории данных для ответа на поставленные перед исследованием вопросы."
   ]
  },
  {
   "cell_type": "markdown",
   "metadata": {},
   "source": [
    "## Ответы на вопросы"
   ]
  },
  {
   "cell_type": "markdown",
   "metadata": {},
   "source": [
    "###  Есть ли зависимость между наличием детей и возвратом кредита в срок?\n",
    "\n",
    "Для ответа на этот вопрос сгруппируем данные по количеству детей у заемщика и подсчитаем количество случаев невозврата кредитов в срок по каждой категории."
   ]
  },
  {
   "cell_type": "code",
   "execution_count": 30,
   "metadata": {
    "scrolled": false,
    "tags": []
   },
   "outputs": [
    {
     "output_type": "stream",
     "name": "stdout",
     "text": "children_category\nбездетный       1058\nодин ребенок     441\nдва ребенка      194\nмногодетный       31\nName: debt, dtype: int64\n"
    }
   ],
   "source": [
    "print(data.groupby('children_category')['debt'].sum())"
   ]
  },
  {
   "cell_type": "markdown",
   "metadata": {},
   "source": [
    "Полученный результат не очень информативен, т.к. не связывает количество невозвратов с количеством выданых кредитов.\n",
    "Сформируем таблицу data_children, в которой будут сгруппированы по тем же категориям и подсчитаны количество выданных кредитов (методом count()) и количество невозвратов (методом sum()). В третьем столбце этой таблицы рассчитаем процент несвоевременных возвратов и округлим результат до сотых"
   ]
  },
  {
   "cell_type": "code",
   "execution_count": 31,
   "metadata": {
    "scrolled": true
   },
   "outputs": [
    {
     "output_type": "execute_result",
     "data": {
      "text/plain": "                    debt       debt_percent\n                   count   sum             \nchildren_category                          \nбездетный          14022  1058         7.55\nодин ребенок        4792   441         9.20\nдва ребенка         2039   194         9.51\nмногодетный          378    31         8.20",
      "text/html": "<div>\n<style scoped>\n    .dataframe tbody tr th:only-of-type {\n        vertical-align: middle;\n    }\n\n    .dataframe tbody tr th {\n        vertical-align: top;\n    }\n\n    .dataframe thead tr th {\n        text-align: left;\n    }\n\n    .dataframe thead tr:last-of-type th {\n        text-align: right;\n    }\n</style>\n<table border=\"1\" class=\"dataframe\">\n  <thead>\n    <tr>\n      <th></th>\n      <th colspan=\"2\" halign=\"left\">debt</th>\n      <th>debt_percent</th>\n    </tr>\n    <tr>\n      <th></th>\n      <th>count</th>\n      <th>sum</th>\n      <th></th>\n    </tr>\n    <tr>\n      <th>children_category</th>\n      <th></th>\n      <th></th>\n      <th></th>\n    </tr>\n  </thead>\n  <tbody>\n    <tr>\n      <th>бездетный</th>\n      <td>14022</td>\n      <td>1058</td>\n      <td>7.55</td>\n    </tr>\n    <tr>\n      <th>один ребенок</th>\n      <td>4792</td>\n      <td>441</td>\n      <td>9.20</td>\n    </tr>\n    <tr>\n      <th>два ребенка</th>\n      <td>2039</td>\n      <td>194</td>\n      <td>9.51</td>\n    </tr>\n    <tr>\n      <th>многодетный</th>\n      <td>378</td>\n      <td>31</td>\n      <td>8.20</td>\n    </tr>\n  </tbody>\n</table>\n</div>"
     },
     "metadata": {},
     "execution_count": 31
    }
   ],
   "source": [
    "# создаем таблицу\n",
    "data_children = data.groupby('children_category').agg({'debt':['count','sum']})\n",
    "# рассчитываем процент не возврата и округляем результат до сотых\n",
    "data_children['debt_percent'] = (data_children['debt','sum'] / data_children['debt','count']*100).round(decimals=2)\n",
    "data_children "
   ]
  },
  {
   "cell_type": "code",
   "execution_count": 32,
   "metadata": {},
   "outputs": [
    {
     "output_type": "execute_result",
     "data": {
      "text/plain": "                    debt       debt_percent\n                   count   sum             \nchildren_category                          \nдва ребенка         2039   194         9.51\nодин ребенок        4792   441         9.20\nмногодетный          378    31         8.20\nбездетный          14022  1058         7.55",
      "text/html": "<div>\n<style scoped>\n    .dataframe tbody tr th:only-of-type {\n        vertical-align: middle;\n    }\n\n    .dataframe tbody tr th {\n        vertical-align: top;\n    }\n\n    .dataframe thead tr th {\n        text-align: left;\n    }\n\n    .dataframe thead tr:last-of-type th {\n        text-align: right;\n    }\n</style>\n<table border=\"1\" class=\"dataframe\">\n  <thead>\n    <tr>\n      <th></th>\n      <th colspan=\"2\" halign=\"left\">debt</th>\n      <th>debt_percent</th>\n    </tr>\n    <tr>\n      <th></th>\n      <th>count</th>\n      <th>sum</th>\n      <th></th>\n    </tr>\n    <tr>\n      <th>children_category</th>\n      <th></th>\n      <th></th>\n      <th></th>\n    </tr>\n  </thead>\n  <tbody>\n    <tr>\n      <th>два ребенка</th>\n      <td>2039</td>\n      <td>194</td>\n      <td>9.51</td>\n    </tr>\n    <tr>\n      <th>один ребенок</th>\n      <td>4792</td>\n      <td>441</td>\n      <td>9.20</td>\n    </tr>\n    <tr>\n      <th>многодетный</th>\n      <td>378</td>\n      <td>31</td>\n      <td>8.20</td>\n    </tr>\n    <tr>\n      <th>бездетный</th>\n      <td>14022</td>\n      <td>1058</td>\n      <td>7.55</td>\n    </tr>\n  </tbody>\n</table>\n</div>"
     },
     "metadata": {},
     "execution_count": 32
    }
   ],
   "source": [
    "#Сортируем таблицу по процентам невозвратов\n",
    "data_children.sort_values(by='debt_percent',ascending=False)"
   ]
  },
  {
   "cell_type": "markdown",
   "metadata": {},
   "source": [
    "**Вывод**"
   ]
  },
  {
   "cell_type": "markdown",
   "metadata": {},
   "source": [
    "Как видим из полученной таблицы наиболее рискованая группа заемщиков - семьи с двумя детьми. Самые надежные в этом смысле заемщики - бездетные.\n",
    "\n",
    "Обращает на себя внимание, что многодетные заемщики надежнее заемщиков с одним или двумя детьми.\n",
    "\n",
    "\n",
    "\n",
    "\n"
   ]
  },
  {
   "cell_type": "markdown",
   "metadata": {},
   "source": [
    "###  Есть ли зависимость между семейным положением и возвратом кредита в срок?"
   ]
  },
  {
   "cell_type": "markdown",
   "metadata": {},
   "source": [
    "Аналогично предыдущему случаю формируем таблицу, сгруппированную по семейному положению и рассчитываем процент случаев невозврата кредитов"
   ]
  },
  {
   "cell_type": "code",
   "execution_count": 33,
   "metadata": {},
   "outputs": [
    {
     "output_type": "execute_result",
     "data": {
      "text/plain": "                        debt      debt_percent\n                       count  sum             \nfamily_status                                 \nНе женат / не замужем   2780  272         9.78\nгражданский брак        4113  383         9.31\nженат / замужем        12213  923         7.56\nв разводе               1179   84         7.12\nвдовец / вдова           946   62         6.55",
      "text/html": "<div>\n<style scoped>\n    .dataframe tbody tr th:only-of-type {\n        vertical-align: middle;\n    }\n\n    .dataframe tbody tr th {\n        vertical-align: top;\n    }\n\n    .dataframe thead tr th {\n        text-align: left;\n    }\n\n    .dataframe thead tr:last-of-type th {\n        text-align: right;\n    }\n</style>\n<table border=\"1\" class=\"dataframe\">\n  <thead>\n    <tr>\n      <th></th>\n      <th colspan=\"2\" halign=\"left\">debt</th>\n      <th>debt_percent</th>\n    </tr>\n    <tr>\n      <th></th>\n      <th>count</th>\n      <th>sum</th>\n      <th></th>\n    </tr>\n    <tr>\n      <th>family_status</th>\n      <th></th>\n      <th></th>\n      <th></th>\n    </tr>\n  </thead>\n  <tbody>\n    <tr>\n      <th>Не женат / не замужем</th>\n      <td>2780</td>\n      <td>272</td>\n      <td>9.78</td>\n    </tr>\n    <tr>\n      <th>гражданский брак</th>\n      <td>4113</td>\n      <td>383</td>\n      <td>9.31</td>\n    </tr>\n    <tr>\n      <th>женат / замужем</th>\n      <td>12213</td>\n      <td>923</td>\n      <td>7.56</td>\n    </tr>\n    <tr>\n      <th>в разводе</th>\n      <td>1179</td>\n      <td>84</td>\n      <td>7.12</td>\n    </tr>\n    <tr>\n      <th>вдовец / вдова</th>\n      <td>946</td>\n      <td>62</td>\n      <td>6.55</td>\n    </tr>\n  </tbody>\n</table>\n</div>"
     },
     "metadata": {},
     "execution_count": 33
    }
   ],
   "source": [
    "# создаем таблицу\n",
    "data_family = data.groupby('family_status').agg({'debt':['count','sum']})\n",
    "# добавляем столбец и рассчитываем процент не возврата, округляем результат до сотых \n",
    "data_family['debt_percent'] = (data_family['debt','sum'] / data_family['debt','count']*100).round(decimals=2)\n",
    "# сортируем результат по убыванию процента невозврата\n",
    "data_family.sort_values(by='debt_percent',ascending=False)"
   ]
  },
  {
   "cell_type": "markdown",
   "metadata": {},
   "source": [
    "**Вывод**"
   ]
  },
  {
   "cell_type": "markdown",
   "metadata": {},
   "source": [
    "Как видим, наиболее рискованные заемщики - это неженатые и находящиеся в гражданском браке.\n",
    "Вдовые заемщики напротив показывают более высокую надежность.\n",
    "\n"
   ]
  },
  {
   "cell_type": "markdown",
   "metadata": {},
   "source": [
    "### Есть ли зависимость между уровнем дохода и возвратом кредита в срок?"
   ]
  },
  {
   "cell_type": "markdown",
   "metadata": {},
   "source": [
    "Для ответа на этот вопрос также формируем таблицу, сгруппированную по уровню дохода заемщика и рассчитываем процент случаев невозврата кредитов"
   ]
  },
  {
   "cell_type": "code",
   "execution_count": 34,
   "metadata": {},
   "outputs": [
    {
     "output_type": "execute_result",
     "data": {
      "text/plain": "                   debt      debt_percent\n                  count  sum             \nincome_category                          \nсредний доход     12018  996         8.29\nнизкий доход        123   10         8.13\nвысокий доход      8868  704         7.94\nоч высокий доход    222   14         6.31",
      "text/html": "<div>\n<style scoped>\n    .dataframe tbody tr th:only-of-type {\n        vertical-align: middle;\n    }\n\n    .dataframe tbody tr th {\n        vertical-align: top;\n    }\n\n    .dataframe thead tr th {\n        text-align: left;\n    }\n\n    .dataframe thead tr:last-of-type th {\n        text-align: right;\n    }\n</style>\n<table border=\"1\" class=\"dataframe\">\n  <thead>\n    <tr>\n      <th></th>\n      <th colspan=\"2\" halign=\"left\">debt</th>\n      <th>debt_percent</th>\n    </tr>\n    <tr>\n      <th></th>\n      <th>count</th>\n      <th>sum</th>\n      <th></th>\n    </tr>\n    <tr>\n      <th>income_category</th>\n      <th></th>\n      <th></th>\n      <th></th>\n    </tr>\n  </thead>\n  <tbody>\n    <tr>\n      <th>средний доход</th>\n      <td>12018</td>\n      <td>996</td>\n      <td>8.29</td>\n    </tr>\n    <tr>\n      <th>низкий доход</th>\n      <td>123</td>\n      <td>10</td>\n      <td>8.13</td>\n    </tr>\n    <tr>\n      <th>высокий доход</th>\n      <td>8868</td>\n      <td>704</td>\n      <td>7.94</td>\n    </tr>\n    <tr>\n      <th>оч высокий доход</th>\n      <td>222</td>\n      <td>14</td>\n      <td>6.31</td>\n    </tr>\n  </tbody>\n</table>\n</div>"
     },
     "metadata": {},
     "execution_count": 34
    }
   ],
   "source": [
    "# создаем таблицу\n",
    "data_income = data.groupby('income_category').agg({'debt':['count','sum']})\n",
    "# добавляем столбец и рассчитываем процент не возврата, округляем результат до сотых \n",
    "data_income['debt_percent'] = (data_income['debt','sum'] / data_income['debt','count']*100).round(decimals=2)\n",
    "# сортируем результат по убыванию процента невозврата\n",
    "data_income.sort_values(by='debt_percent',ascending=False)"
   ]
  },
  {
   "cell_type": "markdown",
   "metadata": {},
   "source": [
    "**Вывод**"
   ]
  },
  {
   "cell_type": "markdown",
   "metadata": {},
   "source": [
    "Наиболее рискованная группа по уровню дохода - заемщики со средним доходом. Заемщики с высоким доходом более надежны.\n",
    "\n",
    "Обращает на себя тот факт, что заемщики с низким доходом, не смотря на меньшее их количество на два порядка, показывают близкую надежность к заемщикам со средним уровнем дохода. Возможно, следует обратить внимание на эту категорию клиентов.\n"
   ]
  },
  {
   "cell_type": "markdown",
   "metadata": {},
   "source": [
    "### Как разные цели кредита влияют на его возврат в срок?"
   ]
  },
  {
   "cell_type": "markdown",
   "metadata": {},
   "source": [
    "Выполним те же операции по категории назначение кредита."
   ]
  },
  {
   "cell_type": "code",
   "execution_count": 35,
   "metadata": {},
   "outputs": [
    {
     "output_type": "execute_result",
     "data": {
      "text/plain": "                                        debt      debt_percent\n                                       count  sum             \nmain_purpose                                                  \nприобретение автомобиля                 4258  397         9.32\nоплата образования                      3970  369         9.29\nрасходы на свадьбу                      2299  181         7.87\nстроительство недвижимости              1862  143         7.68\nприобретение коммерческой недвижимости  1298   98         7.55\nприобретение жилой недвижимости         6942  501         7.22\nремонт недвижимости                      602   35         5.81",
      "text/html": "<div>\n<style scoped>\n    .dataframe tbody tr th:only-of-type {\n        vertical-align: middle;\n    }\n\n    .dataframe tbody tr th {\n        vertical-align: top;\n    }\n\n    .dataframe thead tr th {\n        text-align: left;\n    }\n\n    .dataframe thead tr:last-of-type th {\n        text-align: right;\n    }\n</style>\n<table border=\"1\" class=\"dataframe\">\n  <thead>\n    <tr>\n      <th></th>\n      <th colspan=\"2\" halign=\"left\">debt</th>\n      <th>debt_percent</th>\n    </tr>\n    <tr>\n      <th></th>\n      <th>count</th>\n      <th>sum</th>\n      <th></th>\n    </tr>\n    <tr>\n      <th>main_purpose</th>\n      <th></th>\n      <th></th>\n      <th></th>\n    </tr>\n  </thead>\n  <tbody>\n    <tr>\n      <th>приобретение автомобиля</th>\n      <td>4258</td>\n      <td>397</td>\n      <td>9.32</td>\n    </tr>\n    <tr>\n      <th>оплата образования</th>\n      <td>3970</td>\n      <td>369</td>\n      <td>9.29</td>\n    </tr>\n    <tr>\n      <th>расходы на свадьбу</th>\n      <td>2299</td>\n      <td>181</td>\n      <td>7.87</td>\n    </tr>\n    <tr>\n      <th>строительство недвижимости</th>\n      <td>1862</td>\n      <td>143</td>\n      <td>7.68</td>\n    </tr>\n    <tr>\n      <th>приобретение коммерческой недвижимости</th>\n      <td>1298</td>\n      <td>98</td>\n      <td>7.55</td>\n    </tr>\n    <tr>\n      <th>приобретение жилой недвижимости</th>\n      <td>6942</td>\n      <td>501</td>\n      <td>7.22</td>\n    </tr>\n    <tr>\n      <th>ремонт недвижимости</th>\n      <td>602</td>\n      <td>35</td>\n      <td>5.81</td>\n    </tr>\n  </tbody>\n</table>\n</div>"
     },
     "metadata": {},
     "execution_count": 35
    }
   ],
   "source": [
    "# создаем таблицу\n",
    "data_purpose = data.groupby('main_purpose').agg({'debt':['count','sum']})\n",
    "# добавляем столбец и рассчитываем процент не возврата, округляем результат до сотых \n",
    "data_purpose['debt_percent'] = (data_purpose['debt','sum'] / data_purpose['debt','count']*100).round(decimals=2)\n",
    "# сортируем результат по убыванию процента невозврата\n",
    "data_purpose.sort_values(by='debt_percent',ascending=False)"
   ]
  },
  {
   "cell_type": "markdown",
   "metadata": {},
   "source": [
    "**Вывод**"
   ]
  },
  {
   "cell_type": "markdown",
   "metadata": {},
   "source": [
    "Из полученного результата следует, что наиболее рисковано предоставлять кредит на приобретение автомобиля и оплату образования.\n",
    "Наименее рисковано кредитовать ремонт недвижимости."
   ]
  },
  {
   "cell_type": "markdown",
   "metadata": {},
   "source": [
    "**Сводная таблица**\n"
   ]
  },
  {
   "cell_type": "markdown",
   "metadata": {},
   "source": [
    "Попробуем представить полученные результаты в виде сводной таблицы. Для этого назначим индексами количество детей и семейное положение, а колонками - цели кредитования.\n",
    "\n",
    "Тогда, для количества невозвращеных кредитов получим следующу таблицу (для улучшения восприятия заменили возможные NaN методом fill_value=0):"
   ]
  },
  {
   "cell_type": "code",
   "execution_count": 36,
   "metadata": {
    "scrolled": false
   },
   "outputs": [
    {
     "output_type": "execute_result",
     "data": {
      "text/plain": "main_purpose                             оплата образования  \\\nchildren_category family_status                               \nбездетный         женат / замужем                       118   \n                  гражданский брак                       35   \n                  Не женат / не замужем                  51   \n                  в разводе                              13   \n                  вдовец / вдова                         12   \nодин ребенок      женат / замужем                        57   \n                  гражданский брак                       18   \n                  Не женат / не замужем                  10   \n                  в разводе                               2   \n                  вдовец / вдова                          3   \nдва ребенка       женат / замужем                        37   \n                  гражданский брак                        6   \n                  Не женат / не замужем                   1   \n                  в разводе                               2   \n                  вдовец / вдова                          0   \nмногодетный       женат / замужем                         3   \n                  гражданский брак                        1   \n                  Не женат / не замужем                   0   \n                  в разводе                               0   \n                  вдовец / вдова                          0   \n\nmain_purpose                             приобретение автомобиля  \\\nchildren_category family_status                                    \nбездетный         женат / замужем                            119   \n                  гражданский брак                            28   \n                  Не женат / не замужем                       64   \n                  в разводе                                   13   \n                  вдовец / вдова                              18   \nодин ребенок      женат / замужем                             65   \n                  гражданский брак                            17   \n                  Не женат / не замужем                       13   \n                  в разводе                                    6   \n                  вдовец / вдова                               0   \nдва ребенка       женат / замужем                             36   \n                  гражданский брак                             4   \n                  Не женат / не замужем                        5   \n                  в разводе                                    2   \n                  вдовец / вдова                               1   \nмногодетный       женат / замужем                              4   \n                  гражданский брак                             2   \n                  Не женат / не замужем                        0   \n                  в разводе                                    0   \n                  вдовец / вдова                               0   \n\nmain_purpose                             приобретение жилой недвижимости  \\\nchildren_category family_status                                            \nбездетный         женат / замужем                                    181   \n                  гражданский брак                                    30   \n                  Не женат / не замужем                               61   \n                  в разводе                                           15   \n                  вдовец / вдова                                      14   \nодин ребенок      женат / замужем                                     77   \n                  гражданский брак                                    22   \n                  Не женат / не замужем                               19   \n                  в разводе                                           10   \n                  вдовец / вдова                                       3   \nдва ребенка       женат / замужем                                     47   \n                  гражданский брак                                     6   \n                  Не женат / не замужем                                2   \n                  в разводе                                            2   \n                  вдовец / вдова                                       1   \nмногодетный       женат / замужем                                      9   \n                  гражданский брак                                     0   \n                  Не женат / не замужем                                2   \n                  в разводе                                            0   \n                  вдовец / вдова                                       0   \n\nmain_purpose                             приобретение коммерческой недвижимости  \\\nchildren_category family_status                                                   \nбездетный         женат / замужем                                            36   \n                  гражданский брак                                            7   \n                  Не женат / не замужем                                      13   \n                  в разводе                                                   4   \n                  вдовец / вдова                                              4   \nодин ребенок      женат / замужем                                            17   \n                  гражданский брак                                            4   \n                  Не женат / не замужем                                       2   \n                  в разводе                                                   2   \n                  вдовец / вдова                                              1   \nдва ребенка       женат / замужем                                             6   \n                  гражданский брак                                            0   \n                  Не женат / не замужем                                       1   \n                  в разводе                                                   0   \n                  вдовец / вдова                                              0   \nмногодетный       женат / замужем                                             1   \n                  гражданский брак                                            0   \n                  Не женат / не замужем                                       0   \n                  в разводе                                                   0   \n                  вдовец / вдова                                              0   \n\nmain_purpose                             расходы на свадьбу  \\\nchildren_category family_status                               \nбездетный         женат / замужем                         0   \n                  гражданский брак                      113   \n                  Не женат / не замужем                   0   \n                  в разводе                               0   \n                  вдовец / вдова                          0   \nодин ребенок      женат / замужем                         0   \n                  гражданский брак                       51   \n                  Не женат / не замужем                   0   \n                  в разводе                               0   \n                  вдовец / вдова                          0   \nдва ребенка       женат / замужем                         0   \n                  гражданский брак                       12   \n                  Не женат / не замужем                   0   \n                  в разводе                               0   \n                  вдовец / вдова                          0   \nмногодетный       женат / замужем                         0   \n                  гражданский брак                        5   \n                  Не женат / не замужем                   0   \n                  в разводе                               0   \n                  вдовец / вдова                          0   \n\nmain_purpose                             ремонт недвижимости  \\\nchildren_category family_status                                \nбездетный         женат / замужем                         10   \n                  гражданский брак                         2   \n                  Не женат / не замужем                    5   \n                  в разводе                                5   \n                  вдовец / вдова                           1   \nодин ребенок      женат / замужем                          5   \n                  гражданский брак                         1   \n                  Не женат / не замужем                    1   \n                  в разводе                                0   \n                  вдовец / вдова                           0   \nдва ребенка       женат / замужем                          2   \n                  гражданский брак                         0   \n                  Не женат / не замужем                    0   \n                  в разводе                                0   \n                  вдовец / вдова                           1   \nмногодетный       женат / замужем                          2   \n                  гражданский брак                         0   \n                  Не женат / не замужем                    0   \n                  в разводе                                0   \n                  вдовец / вдова                           0   \n\nmain_purpose                             строительство недвижимости  \nchildren_category family_status                                      \nбездетный         женат / замужем                                50  \n                  гражданский брак                               12  \n                  Не женат / не замужем                          16  \n                  в разводе                                       5  \n                  вдовец / вдова                                  3  \nодин ребенок      женат / замужем                                23  \n                  гражданский брак                                5  \n                  Не женат / не замужем                           6  \n                  в разводе                                       1  \n                  вдовец / вдова                                  0  \nдва ребенка       женат / замужем                                17  \n                  гражданский брак                                2  \n                  Не женат / не замужем                           0  \n                  в разводе                                       1  \n                  вдовец / вдова                                  0  \nмногодетный       женат / замужем                                 1  \n                  гражданский брак                                0  \n                  Не женат / не замужем                           0  \n                  в разводе                                       1  \n                  вдовец / вдова                                  0  ",
      "text/html": "<div>\n<style scoped>\n    .dataframe tbody tr th:only-of-type {\n        vertical-align: middle;\n    }\n\n    .dataframe tbody tr th {\n        vertical-align: top;\n    }\n\n    .dataframe thead th {\n        text-align: right;\n    }\n</style>\n<table border=\"1\" class=\"dataframe\">\n  <thead>\n    <tr style=\"text-align: right;\">\n      <th></th>\n      <th>main_purpose</th>\n      <th>оплата образования</th>\n      <th>приобретение автомобиля</th>\n      <th>приобретение жилой недвижимости</th>\n      <th>приобретение коммерческой недвижимости</th>\n      <th>расходы на свадьбу</th>\n      <th>ремонт недвижимости</th>\n      <th>строительство недвижимости</th>\n    </tr>\n    <tr>\n      <th>children_category</th>\n      <th>family_status</th>\n      <th></th>\n      <th></th>\n      <th></th>\n      <th></th>\n      <th></th>\n      <th></th>\n      <th></th>\n    </tr>\n  </thead>\n  <tbody>\n    <tr>\n      <th rowspan=\"5\" valign=\"top\">бездетный</th>\n      <th>женат / замужем</th>\n      <td>118</td>\n      <td>119</td>\n      <td>181</td>\n      <td>36</td>\n      <td>0</td>\n      <td>10</td>\n      <td>50</td>\n    </tr>\n    <tr>\n      <th>гражданский брак</th>\n      <td>35</td>\n      <td>28</td>\n      <td>30</td>\n      <td>7</td>\n      <td>113</td>\n      <td>2</td>\n      <td>12</td>\n    </tr>\n    <tr>\n      <th>Не женат / не замужем</th>\n      <td>51</td>\n      <td>64</td>\n      <td>61</td>\n      <td>13</td>\n      <td>0</td>\n      <td>5</td>\n      <td>16</td>\n    </tr>\n    <tr>\n      <th>в разводе</th>\n      <td>13</td>\n      <td>13</td>\n      <td>15</td>\n      <td>4</td>\n      <td>0</td>\n      <td>5</td>\n      <td>5</td>\n    </tr>\n    <tr>\n      <th>вдовец / вдова</th>\n      <td>12</td>\n      <td>18</td>\n      <td>14</td>\n      <td>4</td>\n      <td>0</td>\n      <td>1</td>\n      <td>3</td>\n    </tr>\n    <tr>\n      <th rowspan=\"5\" valign=\"top\">один ребенок</th>\n      <th>женат / замужем</th>\n      <td>57</td>\n      <td>65</td>\n      <td>77</td>\n      <td>17</td>\n      <td>0</td>\n      <td>5</td>\n      <td>23</td>\n    </tr>\n    <tr>\n      <th>гражданский брак</th>\n      <td>18</td>\n      <td>17</td>\n      <td>22</td>\n      <td>4</td>\n      <td>51</td>\n      <td>1</td>\n      <td>5</td>\n    </tr>\n    <tr>\n      <th>Не женат / не замужем</th>\n      <td>10</td>\n      <td>13</td>\n      <td>19</td>\n      <td>2</td>\n      <td>0</td>\n      <td>1</td>\n      <td>6</td>\n    </tr>\n    <tr>\n      <th>в разводе</th>\n      <td>2</td>\n      <td>6</td>\n      <td>10</td>\n      <td>2</td>\n      <td>0</td>\n      <td>0</td>\n      <td>1</td>\n    </tr>\n    <tr>\n      <th>вдовец / вдова</th>\n      <td>3</td>\n      <td>0</td>\n      <td>3</td>\n      <td>1</td>\n      <td>0</td>\n      <td>0</td>\n      <td>0</td>\n    </tr>\n    <tr>\n      <th rowspan=\"5\" valign=\"top\">два ребенка</th>\n      <th>женат / замужем</th>\n      <td>37</td>\n      <td>36</td>\n      <td>47</td>\n      <td>6</td>\n      <td>0</td>\n      <td>2</td>\n      <td>17</td>\n    </tr>\n    <tr>\n      <th>гражданский брак</th>\n      <td>6</td>\n      <td>4</td>\n      <td>6</td>\n      <td>0</td>\n      <td>12</td>\n      <td>0</td>\n      <td>2</td>\n    </tr>\n    <tr>\n      <th>Не женат / не замужем</th>\n      <td>1</td>\n      <td>5</td>\n      <td>2</td>\n      <td>1</td>\n      <td>0</td>\n      <td>0</td>\n      <td>0</td>\n    </tr>\n    <tr>\n      <th>в разводе</th>\n      <td>2</td>\n      <td>2</td>\n      <td>2</td>\n      <td>0</td>\n      <td>0</td>\n      <td>0</td>\n      <td>1</td>\n    </tr>\n    <tr>\n      <th>вдовец / вдова</th>\n      <td>0</td>\n      <td>1</td>\n      <td>1</td>\n      <td>0</td>\n      <td>0</td>\n      <td>1</td>\n      <td>0</td>\n    </tr>\n    <tr>\n      <th rowspan=\"5\" valign=\"top\">многодетный</th>\n      <th>женат / замужем</th>\n      <td>3</td>\n      <td>4</td>\n      <td>9</td>\n      <td>1</td>\n      <td>0</td>\n      <td>2</td>\n      <td>1</td>\n    </tr>\n    <tr>\n      <th>гражданский брак</th>\n      <td>1</td>\n      <td>2</td>\n      <td>0</td>\n      <td>0</td>\n      <td>5</td>\n      <td>0</td>\n      <td>0</td>\n    </tr>\n    <tr>\n      <th>Не женат / не замужем</th>\n      <td>0</td>\n      <td>0</td>\n      <td>2</td>\n      <td>0</td>\n      <td>0</td>\n      <td>0</td>\n      <td>0</td>\n    </tr>\n    <tr>\n      <th>в разводе</th>\n      <td>0</td>\n      <td>0</td>\n      <td>0</td>\n      <td>0</td>\n      <td>0</td>\n      <td>0</td>\n      <td>1</td>\n    </tr>\n    <tr>\n      <th>вдовец / вдова</th>\n      <td>0</td>\n      <td>0</td>\n      <td>0</td>\n      <td>0</td>\n      <td>0</td>\n      <td>0</td>\n      <td>0</td>\n    </tr>\n  </tbody>\n</table>\n</div>"
     },
     "metadata": {},
     "execution_count": 36
    }
   ],
   "source": [
    "\n",
    "data_total_debt = data.pivot_table(index=['children_category','family_status'],\n",
    "                                    columns=['main_purpose',],\n",
    "                                    values='debt',\n",
    "                                    aggfunc='sum',\n",
    "                                    fill_value=0\n",
    "                                   )\n",
    "\n",
    "data_total_debt"
   ]
  },
  {
   "cell_type": "markdown",
   "metadata": {},
   "source": [
    "Аналогично, для всех случаев обращения за кредитом получаем:"
   ]
  },
  {
   "cell_type": "code",
   "execution_count": 37,
   "metadata": {},
   "outputs": [
    {
     "output_type": "execute_result",
     "data": {
      "text/plain": "main_purpose                             оплата образования  \\\nchildren_category family_status                               \nбездетный         женат / замужем                      1573   \n                  гражданский брак                      269   \n                  Не женат / не замужем                 453   \n                  в разводе                             158   \n                  вдовец / вдова                        174   \nодин ребенок      женат / замужем                       590   \n                  гражданский брак                       96   \n                  Не женат / не замужем                 101   \n                  в разводе                              61   \n                  вдовец / вдова                         17   \nдва ребенка       женат / замужем                       336   \n                  гражданский брак                       31   \n                  Не женат / не замужем                  14   \n                  в разводе                              18   \n                  вдовец / вдова                          2   \nмногодетный       женат / замужем                        65   \n                  гражданский брак                        6   \n                  Не женат / не замужем                   3   \n                  в разводе                               0   \n                  вдовец / вдова                          3   \n\nmain_purpose                             приобретение автомобиля  \\\nchildren_category family_status                                    \nбездетный         женат / замужем                           1644   \n                  гражданский брак                           281   \n                  Не женат / не замужем                      516   \n                  в разводе                                  192   \n                  вдовец / вдова                             199   \nодин ребенок      женат / замужем                            680   \n                  гражданский брак                           105   \n                  Не женат / не замужем                       92   \n                  в разводе                                   68   \n                  вдовец / вдова                              11   \nдва ребенка       женат / замужем                            323   \n                  гражданский брак                            35   \n                  Не женат / не замужем                       20   \n                  в разводе                                   14   \n                  вдовец / вдова                               6   \nмногодетный       женат / замужем                             59   \n                  гражданский брак                             7   \n                  Не женат / не замужем                        4   \n                  в разводе                                    2   \n                  вдовец / вдова                               0   \n\nmain_purpose                             приобретение жилой недвижимости  \\\nchildren_category family_status                                            \nбездетный         женат / замужем                                   2737   \n                  гражданский брак                                   416   \n                  Не женат / не замужем                              831   \n                  в разводе                                          270   \n                  вдовец / вдова                                     292   \nодин ребенок      женат / замужем                                   1128   \n                  гражданский брак                                   168   \n                  Не женат / не замужем                              159   \n                  в разводе                                          116   \n                  вдовец / вдова                                      32   \nдва ребенка       женат / замужем                                    563   \n                  гражданский брак                                    34   \n                  Не женат / не замужем                               30   \n                  в разводе                                           33   \n                  вдовец / вдова                                       5   \nмногодетный       женат / замужем                                    105   \n                  гражданский брак                                    10   \n                  Не женат / не замужем                                3   \n                  в разводе                                            6   \n                  вдовец / вдова                                       4   \n\nmain_purpose                             приобретение коммерческой недвижимости  \\\nchildren_category family_status                                                   \nбездетный         женат / замужем                                           499   \n                  гражданский брак                                           78   \n                  Не женат / не замужем                                     147   \n                  в разводе                                                  53   \n                  вдовец / вдова                                             67   \nодин ребенок      женат / замужем                                           203   \n                  гражданский брак                                           32   \n                  Не женат / не замужем                                      31   \n                  в разводе                                                  32   \n                  вдовец / вдова                                              7   \nдва ребенка       женат / замужем                                           106   \n                  гражданский брак                                           10   \n                  Не женат / не замужем                                       4   \n                  в разводе                                                   5   \n                  вдовец / вдова                                              2   \nмногодетный       женат / замужем                                            19   \n                  гражданский брак                                            2   \n                  Не женат / не замужем                                       0   \n                  в разводе                                                   1   \n                  вдовец / вдова                                              0   \n\nmain_purpose                             расходы на свадьбу  \\\nchildren_category family_status                               \nбездетный         женат / замужем                         0   \n                  гражданский брак                     1519   \n                  Не женат / не замужем                   0   \n                  в разводе                               0   \n                  вдовец / вдова                          0   \nодин ребенок      женат / замужем                         0   \n                  гражданский брак                      529   \n                  Не женат / не замужем                   0   \n                  в разводе                               0   \n                  вдовец / вдова                          0   \nдва ребенка       женат / замужем                         0   \n                  гражданский брак                      215   \n                  Не женат / не замужем                   0   \n                  в разводе                               0   \n                  вдовец / вдова                          0   \nмногодетный       женат / замужем                         0   \n                  гражданский брак                       36   \n                  Не женат / не замужем                   0   \n                  в разводе                               0   \n                  вдовец / вдова                          0   \n\nmain_purpose                             ремонт недвижимости  \\\nchildren_category family_status                                \nбездетный         женат / замужем                        235   \n                  гражданский брак                        34   \n                  Не женат / не замужем                   74   \n                  в разводе                               34   \n                  вдовец / вдова                          25   \nодин ребенок      женат / замужем                         94   \n                  гражданский брак                        14   \n                  Не женат / не замужем                   18   \n                  в разводе                                4   \n                  вдовец / вдова                           5   \nдва ребенка       женат / замужем                         49   \n                  гражданский брак                         5   \n                  Не женат / не замужем                    0   \n                  в разводе                                1   \n                  вдовец / вдова                           2   \nмногодетный       женат / замужем                          7   \n                  гражданский брак                         1   \n                  Не женат / не замужем                    0   \n                  в разводе                                0   \n                  вдовец / вдова                           0   \n\nmain_purpose                             строительство недвижимости  \nchildren_category family_status                                      \nбездетный         женат / замужем                               749  \n                  гражданский брак                              120  \n                  Не женат / не замужем                         228  \n                  в разводе                                      70  \n                  вдовец / вдова                                 85  \nодин ребенок      женат / замужем                               273  \n                  гражданский брак                               45  \n                  Не женат / не замужем                          46  \n                  в разводе                                      30  \n                  вдовец / вдова                                  5  \nдва ребенка       женат / замужем                               148  \n                  гражданский брак                               11  \n                  Не женат / не замужем                           6  \n                  в разводе                                       8  \n                  вдовец / вдова                                  3  \nмногодетный       женат / замужем                                28  \n                  гражданский брак                                4  \n                  Не женат / не замужем                           0  \n                  в разводе                                       3  \n                  вдовец / вдова                                  0  ",
      "text/html": "<div>\n<style scoped>\n    .dataframe tbody tr th:only-of-type {\n        vertical-align: middle;\n    }\n\n    .dataframe tbody tr th {\n        vertical-align: top;\n    }\n\n    .dataframe thead th {\n        text-align: right;\n    }\n</style>\n<table border=\"1\" class=\"dataframe\">\n  <thead>\n    <tr style=\"text-align: right;\">\n      <th></th>\n      <th>main_purpose</th>\n      <th>оплата образования</th>\n      <th>приобретение автомобиля</th>\n      <th>приобретение жилой недвижимости</th>\n      <th>приобретение коммерческой недвижимости</th>\n      <th>расходы на свадьбу</th>\n      <th>ремонт недвижимости</th>\n      <th>строительство недвижимости</th>\n    </tr>\n    <tr>\n      <th>children_category</th>\n      <th>family_status</th>\n      <th></th>\n      <th></th>\n      <th></th>\n      <th></th>\n      <th></th>\n      <th></th>\n      <th></th>\n    </tr>\n  </thead>\n  <tbody>\n    <tr>\n      <th rowspan=\"5\" valign=\"top\">бездетный</th>\n      <th>женат / замужем</th>\n      <td>1573</td>\n      <td>1644</td>\n      <td>2737</td>\n      <td>499</td>\n      <td>0</td>\n      <td>235</td>\n      <td>749</td>\n    </tr>\n    <tr>\n      <th>гражданский брак</th>\n      <td>269</td>\n      <td>281</td>\n      <td>416</td>\n      <td>78</td>\n      <td>1519</td>\n      <td>34</td>\n      <td>120</td>\n    </tr>\n    <tr>\n      <th>Не женат / не замужем</th>\n      <td>453</td>\n      <td>516</td>\n      <td>831</td>\n      <td>147</td>\n      <td>0</td>\n      <td>74</td>\n      <td>228</td>\n    </tr>\n    <tr>\n      <th>в разводе</th>\n      <td>158</td>\n      <td>192</td>\n      <td>270</td>\n      <td>53</td>\n      <td>0</td>\n      <td>34</td>\n      <td>70</td>\n    </tr>\n    <tr>\n      <th>вдовец / вдова</th>\n      <td>174</td>\n      <td>199</td>\n      <td>292</td>\n      <td>67</td>\n      <td>0</td>\n      <td>25</td>\n      <td>85</td>\n    </tr>\n    <tr>\n      <th rowspan=\"5\" valign=\"top\">один ребенок</th>\n      <th>женат / замужем</th>\n      <td>590</td>\n      <td>680</td>\n      <td>1128</td>\n      <td>203</td>\n      <td>0</td>\n      <td>94</td>\n      <td>273</td>\n    </tr>\n    <tr>\n      <th>гражданский брак</th>\n      <td>96</td>\n      <td>105</td>\n      <td>168</td>\n      <td>32</td>\n      <td>529</td>\n      <td>14</td>\n      <td>45</td>\n    </tr>\n    <tr>\n      <th>Не женат / не замужем</th>\n      <td>101</td>\n      <td>92</td>\n      <td>159</td>\n      <td>31</td>\n      <td>0</td>\n      <td>18</td>\n      <td>46</td>\n    </tr>\n    <tr>\n      <th>в разводе</th>\n      <td>61</td>\n      <td>68</td>\n      <td>116</td>\n      <td>32</td>\n      <td>0</td>\n      <td>4</td>\n      <td>30</td>\n    </tr>\n    <tr>\n      <th>вдовец / вдова</th>\n      <td>17</td>\n      <td>11</td>\n      <td>32</td>\n      <td>7</td>\n      <td>0</td>\n      <td>5</td>\n      <td>5</td>\n    </tr>\n    <tr>\n      <th rowspan=\"5\" valign=\"top\">два ребенка</th>\n      <th>женат / замужем</th>\n      <td>336</td>\n      <td>323</td>\n      <td>563</td>\n      <td>106</td>\n      <td>0</td>\n      <td>49</td>\n      <td>148</td>\n    </tr>\n    <tr>\n      <th>гражданский брак</th>\n      <td>31</td>\n      <td>35</td>\n      <td>34</td>\n      <td>10</td>\n      <td>215</td>\n      <td>5</td>\n      <td>11</td>\n    </tr>\n    <tr>\n      <th>Не женат / не замужем</th>\n      <td>14</td>\n      <td>20</td>\n      <td>30</td>\n      <td>4</td>\n      <td>0</td>\n      <td>0</td>\n      <td>6</td>\n    </tr>\n    <tr>\n      <th>в разводе</th>\n      <td>18</td>\n      <td>14</td>\n      <td>33</td>\n      <td>5</td>\n      <td>0</td>\n      <td>1</td>\n      <td>8</td>\n    </tr>\n    <tr>\n      <th>вдовец / вдова</th>\n      <td>2</td>\n      <td>6</td>\n      <td>5</td>\n      <td>2</td>\n      <td>0</td>\n      <td>2</td>\n      <td>3</td>\n    </tr>\n    <tr>\n      <th rowspan=\"5\" valign=\"top\">многодетный</th>\n      <th>женат / замужем</th>\n      <td>65</td>\n      <td>59</td>\n      <td>105</td>\n      <td>19</td>\n      <td>0</td>\n      <td>7</td>\n      <td>28</td>\n    </tr>\n    <tr>\n      <th>гражданский брак</th>\n      <td>6</td>\n      <td>7</td>\n      <td>10</td>\n      <td>2</td>\n      <td>36</td>\n      <td>1</td>\n      <td>4</td>\n    </tr>\n    <tr>\n      <th>Не женат / не замужем</th>\n      <td>3</td>\n      <td>4</td>\n      <td>3</td>\n      <td>0</td>\n      <td>0</td>\n      <td>0</td>\n      <td>0</td>\n    </tr>\n    <tr>\n      <th>в разводе</th>\n      <td>0</td>\n      <td>2</td>\n      <td>6</td>\n      <td>1</td>\n      <td>0</td>\n      <td>0</td>\n      <td>3</td>\n    </tr>\n    <tr>\n      <th>вдовец / вдова</th>\n      <td>3</td>\n      <td>0</td>\n      <td>4</td>\n      <td>0</td>\n      <td>0</td>\n      <td>0</td>\n      <td>0</td>\n    </tr>\n  </tbody>\n</table>\n</div>"
     },
     "metadata": {},
     "execution_count": 37
    }
   ],
   "source": [
    "data_total_credit = data.pivot_table(index=['children_category','family_status'],\n",
    "                                    columns=['main_purpose'],\n",
    "                                    values='debt',\n",
    "                                    aggfunc='count',\n",
    "                                    fill_value=0\n",
    "                                   )\n",
    "data_total_credit"
   ]
  },
  {
   "cell_type": "markdown",
   "metadata": {},
   "source": [
    "Результат, после перевода в проценты и округления выглядит следующим образом:"
   ]
  },
  {
   "cell_type": "code",
   "execution_count": 38,
   "metadata": {},
   "outputs": [
    {
     "output_type": "execute_result",
     "data": {
      "text/plain": "<pandas.io.formats.style.Styler at 0x143d2bc4220>",
      "text/html": "<style  type=\"text/css\" >\n</style><table id=\"T_aa348746_1650_11ec_a903_1063c8539ca0\" ><thead>    <tr>        <th class=\"blank\" ></th>        <th class=\"index_name level0\" >main_purpose</th>        <th class=\"col_heading level0 col0\" >оплата образования</th>        <th class=\"col_heading level0 col1\" >приобретение автомобиля</th>        <th class=\"col_heading level0 col2\" >приобретение жилой недвижимости</th>        <th class=\"col_heading level0 col3\" >приобретение коммерческой недвижимости</th>        <th class=\"col_heading level0 col4\" >расходы на свадьбу</th>        <th class=\"col_heading level0 col5\" >ремонт недвижимости</th>        <th class=\"col_heading level0 col6\" >строительство недвижимости</th>    </tr>    <tr>        <th class=\"index_name level0\" >children_category</th>        <th class=\"index_name level1\" >family_status</th>        <th class=\"blank\" ></th>        <th class=\"blank\" ></th>        <th class=\"blank\" ></th>        <th class=\"blank\" ></th>        <th class=\"blank\" ></th>        <th class=\"blank\" ></th>        <th class=\"blank\" ></th>    </tr></thead><tbody>\n                <tr>\n                        <th id=\"T_aa348746_1650_11ec_a903_1063c8539ca0level0_row0\" class=\"row_heading level0 row0\" rowspan=5>бездетный</th>\n                        <th id=\"T_aa348746_1650_11ec_a903_1063c8539ca0level1_row0\" class=\"row_heading level1 row0\" >женат / замужем</th>\n                        <td id=\"T_aa348746_1650_11ec_a903_1063c8539ca0row0_col0\" class=\"data row0 col0\" >7.50%</td>\n                        <td id=\"T_aa348746_1650_11ec_a903_1063c8539ca0row0_col1\" class=\"data row0 col1\" >7.24%</td>\n                        <td id=\"T_aa348746_1650_11ec_a903_1063c8539ca0row0_col2\" class=\"data row0 col2\" >6.61%</td>\n                        <td id=\"T_aa348746_1650_11ec_a903_1063c8539ca0row0_col3\" class=\"data row0 col3\" >7.21%</td>\n                        <td id=\"T_aa348746_1650_11ec_a903_1063c8539ca0row0_col4\" class=\"data row0 col4\" >0.00%</td>\n                        <td id=\"T_aa348746_1650_11ec_a903_1063c8539ca0row0_col5\" class=\"data row0 col5\" >4.26%</td>\n                        <td id=\"T_aa348746_1650_11ec_a903_1063c8539ca0row0_col6\" class=\"data row0 col6\" >6.68%</td>\n            </tr>\n            <tr>\n                                <th id=\"T_aa348746_1650_11ec_a903_1063c8539ca0level1_row1\" class=\"row_heading level1 row1\" >гражданский брак</th>\n                        <td id=\"T_aa348746_1650_11ec_a903_1063c8539ca0row1_col0\" class=\"data row1 col0\" >13.01%</td>\n                        <td id=\"T_aa348746_1650_11ec_a903_1063c8539ca0row1_col1\" class=\"data row1 col1\" >9.96%</td>\n                        <td id=\"T_aa348746_1650_11ec_a903_1063c8539ca0row1_col2\" class=\"data row1 col2\" >7.21%</td>\n                        <td id=\"T_aa348746_1650_11ec_a903_1063c8539ca0row1_col3\" class=\"data row1 col3\" >8.97%</td>\n                        <td id=\"T_aa348746_1650_11ec_a903_1063c8539ca0row1_col4\" class=\"data row1 col4\" >7.44%</td>\n                        <td id=\"T_aa348746_1650_11ec_a903_1063c8539ca0row1_col5\" class=\"data row1 col5\" >5.88%</td>\n                        <td id=\"T_aa348746_1650_11ec_a903_1063c8539ca0row1_col6\" class=\"data row1 col6\" >10.00%</td>\n            </tr>\n            <tr>\n                                <th id=\"T_aa348746_1650_11ec_a903_1063c8539ca0level1_row2\" class=\"row_heading level1 row2\" >Не женат / не замужем</th>\n                        <td id=\"T_aa348746_1650_11ec_a903_1063c8539ca0row2_col0\" class=\"data row2 col0\" >11.26%</td>\n                        <td id=\"T_aa348746_1650_11ec_a903_1063c8539ca0row2_col1\" class=\"data row2 col1\" >12.40%</td>\n                        <td id=\"T_aa348746_1650_11ec_a903_1063c8539ca0row2_col2\" class=\"data row2 col2\" >7.34%</td>\n                        <td id=\"T_aa348746_1650_11ec_a903_1063c8539ca0row2_col3\" class=\"data row2 col3\" >8.84%</td>\n                        <td id=\"T_aa348746_1650_11ec_a903_1063c8539ca0row2_col4\" class=\"data row2 col4\" >0.00%</td>\n                        <td id=\"T_aa348746_1650_11ec_a903_1063c8539ca0row2_col5\" class=\"data row2 col5\" >6.76%</td>\n                        <td id=\"T_aa348746_1650_11ec_a903_1063c8539ca0row2_col6\" class=\"data row2 col6\" >7.02%</td>\n            </tr>\n            <tr>\n                                <th id=\"T_aa348746_1650_11ec_a903_1063c8539ca0level1_row3\" class=\"row_heading level1 row3\" >в разводе</th>\n                        <td id=\"T_aa348746_1650_11ec_a903_1063c8539ca0row3_col0\" class=\"data row3 col0\" >8.23%</td>\n                        <td id=\"T_aa348746_1650_11ec_a903_1063c8539ca0row3_col1\" class=\"data row3 col1\" >6.77%</td>\n                        <td id=\"T_aa348746_1650_11ec_a903_1063c8539ca0row3_col2\" class=\"data row3 col2\" >5.56%</td>\n                        <td id=\"T_aa348746_1650_11ec_a903_1063c8539ca0row3_col3\" class=\"data row3 col3\" >7.55%</td>\n                        <td id=\"T_aa348746_1650_11ec_a903_1063c8539ca0row3_col4\" class=\"data row3 col4\" >0.00%</td>\n                        <td id=\"T_aa348746_1650_11ec_a903_1063c8539ca0row3_col5\" class=\"data row3 col5\" >14.71%</td>\n                        <td id=\"T_aa348746_1650_11ec_a903_1063c8539ca0row3_col6\" class=\"data row3 col6\" >7.14%</td>\n            </tr>\n            <tr>\n                                <th id=\"T_aa348746_1650_11ec_a903_1063c8539ca0level1_row4\" class=\"row_heading level1 row4\" >вдовец / вдова</th>\n                        <td id=\"T_aa348746_1650_11ec_a903_1063c8539ca0row4_col0\" class=\"data row4 col0\" >6.90%</td>\n                        <td id=\"T_aa348746_1650_11ec_a903_1063c8539ca0row4_col1\" class=\"data row4 col1\" >9.05%</td>\n                        <td id=\"T_aa348746_1650_11ec_a903_1063c8539ca0row4_col2\" class=\"data row4 col2\" >4.79%</td>\n                        <td id=\"T_aa348746_1650_11ec_a903_1063c8539ca0row4_col3\" class=\"data row4 col3\" >5.97%</td>\n                        <td id=\"T_aa348746_1650_11ec_a903_1063c8539ca0row4_col4\" class=\"data row4 col4\" >0.00%</td>\n                        <td id=\"T_aa348746_1650_11ec_a903_1063c8539ca0row4_col5\" class=\"data row4 col5\" >4.00%</td>\n                        <td id=\"T_aa348746_1650_11ec_a903_1063c8539ca0row4_col6\" class=\"data row4 col6\" >3.53%</td>\n            </tr>\n            <tr>\n                        <th id=\"T_aa348746_1650_11ec_a903_1063c8539ca0level0_row5\" class=\"row_heading level0 row5\" rowspan=5>один ребенок</th>\n                        <th id=\"T_aa348746_1650_11ec_a903_1063c8539ca0level1_row5\" class=\"row_heading level1 row5\" >женат / замужем</th>\n                        <td id=\"T_aa348746_1650_11ec_a903_1063c8539ca0row5_col0\" class=\"data row5 col0\" >9.66%</td>\n                        <td id=\"T_aa348746_1650_11ec_a903_1063c8539ca0row5_col1\" class=\"data row5 col1\" >9.56%</td>\n                        <td id=\"T_aa348746_1650_11ec_a903_1063c8539ca0row5_col2\" class=\"data row5 col2\" >6.83%</td>\n                        <td id=\"T_aa348746_1650_11ec_a903_1063c8539ca0row5_col3\" class=\"data row5 col3\" >8.37%</td>\n                        <td id=\"T_aa348746_1650_11ec_a903_1063c8539ca0row5_col4\" class=\"data row5 col4\" >0.00%</td>\n                        <td id=\"T_aa348746_1650_11ec_a903_1063c8539ca0row5_col5\" class=\"data row5 col5\" >5.32%</td>\n                        <td id=\"T_aa348746_1650_11ec_a903_1063c8539ca0row5_col6\" class=\"data row5 col6\" >8.42%</td>\n            </tr>\n            <tr>\n                                <th id=\"T_aa348746_1650_11ec_a903_1063c8539ca0level1_row6\" class=\"row_heading level1 row6\" >гражданский брак</th>\n                        <td id=\"T_aa348746_1650_11ec_a903_1063c8539ca0row6_col0\" class=\"data row6 col0\" >18.75%</td>\n                        <td id=\"T_aa348746_1650_11ec_a903_1063c8539ca0row6_col1\" class=\"data row6 col1\" >16.19%</td>\n                        <td id=\"T_aa348746_1650_11ec_a903_1063c8539ca0row6_col2\" class=\"data row6 col2\" >13.10%</td>\n                        <td id=\"T_aa348746_1650_11ec_a903_1063c8539ca0row6_col3\" class=\"data row6 col3\" >12.50%</td>\n                        <td id=\"T_aa348746_1650_11ec_a903_1063c8539ca0row6_col4\" class=\"data row6 col4\" >9.64%</td>\n                        <td id=\"T_aa348746_1650_11ec_a903_1063c8539ca0row6_col5\" class=\"data row6 col5\" >7.14%</td>\n                        <td id=\"T_aa348746_1650_11ec_a903_1063c8539ca0row6_col6\" class=\"data row6 col6\" >11.11%</td>\n            </tr>\n            <tr>\n                                <th id=\"T_aa348746_1650_11ec_a903_1063c8539ca0level1_row7\" class=\"row_heading level1 row7\" >Не женат / не замужем</th>\n                        <td id=\"T_aa348746_1650_11ec_a903_1063c8539ca0row7_col0\" class=\"data row7 col0\" >9.90%</td>\n                        <td id=\"T_aa348746_1650_11ec_a903_1063c8539ca0row7_col1\" class=\"data row7 col1\" >14.13%</td>\n                        <td id=\"T_aa348746_1650_11ec_a903_1063c8539ca0row7_col2\" class=\"data row7 col2\" >11.95%</td>\n                        <td id=\"T_aa348746_1650_11ec_a903_1063c8539ca0row7_col3\" class=\"data row7 col3\" >6.45%</td>\n                        <td id=\"T_aa348746_1650_11ec_a903_1063c8539ca0row7_col4\" class=\"data row7 col4\" >0.00%</td>\n                        <td id=\"T_aa348746_1650_11ec_a903_1063c8539ca0row7_col5\" class=\"data row7 col5\" >5.56%</td>\n                        <td id=\"T_aa348746_1650_11ec_a903_1063c8539ca0row7_col6\" class=\"data row7 col6\" >13.04%</td>\n            </tr>\n            <tr>\n                                <th id=\"T_aa348746_1650_11ec_a903_1063c8539ca0level1_row8\" class=\"row_heading level1 row8\" >в разводе</th>\n                        <td id=\"T_aa348746_1650_11ec_a903_1063c8539ca0row8_col0\" class=\"data row8 col0\" >3.28%</td>\n                        <td id=\"T_aa348746_1650_11ec_a903_1063c8539ca0row8_col1\" class=\"data row8 col1\" >8.82%</td>\n                        <td id=\"T_aa348746_1650_11ec_a903_1063c8539ca0row8_col2\" class=\"data row8 col2\" >8.62%</td>\n                        <td id=\"T_aa348746_1650_11ec_a903_1063c8539ca0row8_col3\" class=\"data row8 col3\" >6.25%</td>\n                        <td id=\"T_aa348746_1650_11ec_a903_1063c8539ca0row8_col4\" class=\"data row8 col4\" >0.00%</td>\n                        <td id=\"T_aa348746_1650_11ec_a903_1063c8539ca0row8_col5\" class=\"data row8 col5\" >0.00%</td>\n                        <td id=\"T_aa348746_1650_11ec_a903_1063c8539ca0row8_col6\" class=\"data row8 col6\" >3.33%</td>\n            </tr>\n            <tr>\n                                <th id=\"T_aa348746_1650_11ec_a903_1063c8539ca0level1_row9\" class=\"row_heading level1 row9\" >вдовец / вдова</th>\n                        <td id=\"T_aa348746_1650_11ec_a903_1063c8539ca0row9_col0\" class=\"data row9 col0\" >17.65%</td>\n                        <td id=\"T_aa348746_1650_11ec_a903_1063c8539ca0row9_col1\" class=\"data row9 col1\" >0.00%</td>\n                        <td id=\"T_aa348746_1650_11ec_a903_1063c8539ca0row9_col2\" class=\"data row9 col2\" >9.38%</td>\n                        <td id=\"T_aa348746_1650_11ec_a903_1063c8539ca0row9_col3\" class=\"data row9 col3\" >14.29%</td>\n                        <td id=\"T_aa348746_1650_11ec_a903_1063c8539ca0row9_col4\" class=\"data row9 col4\" >0.00%</td>\n                        <td id=\"T_aa348746_1650_11ec_a903_1063c8539ca0row9_col5\" class=\"data row9 col5\" >0.00%</td>\n                        <td id=\"T_aa348746_1650_11ec_a903_1063c8539ca0row9_col6\" class=\"data row9 col6\" >0.00%</td>\n            </tr>\n            <tr>\n                        <th id=\"T_aa348746_1650_11ec_a903_1063c8539ca0level0_row10\" class=\"row_heading level0 row10\" rowspan=5>два ребенка</th>\n                        <th id=\"T_aa348746_1650_11ec_a903_1063c8539ca0level1_row10\" class=\"row_heading level1 row10\" >женат / замужем</th>\n                        <td id=\"T_aa348746_1650_11ec_a903_1063c8539ca0row10_col0\" class=\"data row10 col0\" >11.01%</td>\n                        <td id=\"T_aa348746_1650_11ec_a903_1063c8539ca0row10_col1\" class=\"data row10 col1\" >11.15%</td>\n                        <td id=\"T_aa348746_1650_11ec_a903_1063c8539ca0row10_col2\" class=\"data row10 col2\" >8.35%</td>\n                        <td id=\"T_aa348746_1650_11ec_a903_1063c8539ca0row10_col3\" class=\"data row10 col3\" >5.66%</td>\n                        <td id=\"T_aa348746_1650_11ec_a903_1063c8539ca0row10_col4\" class=\"data row10 col4\" >0.00%</td>\n                        <td id=\"T_aa348746_1650_11ec_a903_1063c8539ca0row10_col5\" class=\"data row10 col5\" >4.08%</td>\n                        <td id=\"T_aa348746_1650_11ec_a903_1063c8539ca0row10_col6\" class=\"data row10 col6\" >11.49%</td>\n            </tr>\n            <tr>\n                                <th id=\"T_aa348746_1650_11ec_a903_1063c8539ca0level1_row11\" class=\"row_heading level1 row11\" >гражданский брак</th>\n                        <td id=\"T_aa348746_1650_11ec_a903_1063c8539ca0row11_col0\" class=\"data row11 col0\" >19.35%</td>\n                        <td id=\"T_aa348746_1650_11ec_a903_1063c8539ca0row11_col1\" class=\"data row11 col1\" >11.43%</td>\n                        <td id=\"T_aa348746_1650_11ec_a903_1063c8539ca0row11_col2\" class=\"data row11 col2\" >17.65%</td>\n                        <td id=\"T_aa348746_1650_11ec_a903_1063c8539ca0row11_col3\" class=\"data row11 col3\" >0.00%</td>\n                        <td id=\"T_aa348746_1650_11ec_a903_1063c8539ca0row11_col4\" class=\"data row11 col4\" >5.58%</td>\n                        <td id=\"T_aa348746_1650_11ec_a903_1063c8539ca0row11_col5\" class=\"data row11 col5\" >0.00%</td>\n                        <td id=\"T_aa348746_1650_11ec_a903_1063c8539ca0row11_col6\" class=\"data row11 col6\" >18.18%</td>\n            </tr>\n            <tr>\n                                <th id=\"T_aa348746_1650_11ec_a903_1063c8539ca0level1_row12\" class=\"row_heading level1 row12\" >Не женат / не замужем</th>\n                        <td id=\"T_aa348746_1650_11ec_a903_1063c8539ca0row12_col0\" class=\"data row12 col0\" >7.14%</td>\n                        <td id=\"T_aa348746_1650_11ec_a903_1063c8539ca0row12_col1\" class=\"data row12 col1\" >25.00%</td>\n                        <td id=\"T_aa348746_1650_11ec_a903_1063c8539ca0row12_col2\" class=\"data row12 col2\" >6.67%</td>\n                        <td id=\"T_aa348746_1650_11ec_a903_1063c8539ca0row12_col3\" class=\"data row12 col3\" >25.00%</td>\n                        <td id=\"T_aa348746_1650_11ec_a903_1063c8539ca0row12_col4\" class=\"data row12 col4\" >0.00%</td>\n                        <td id=\"T_aa348746_1650_11ec_a903_1063c8539ca0row12_col5\" class=\"data row12 col5\" >0.00%</td>\n                        <td id=\"T_aa348746_1650_11ec_a903_1063c8539ca0row12_col6\" class=\"data row12 col6\" >0.00%</td>\n            </tr>\n            <tr>\n                                <th id=\"T_aa348746_1650_11ec_a903_1063c8539ca0level1_row13\" class=\"row_heading level1 row13\" >в разводе</th>\n                        <td id=\"T_aa348746_1650_11ec_a903_1063c8539ca0row13_col0\" class=\"data row13 col0\" >11.11%</td>\n                        <td id=\"T_aa348746_1650_11ec_a903_1063c8539ca0row13_col1\" class=\"data row13 col1\" >14.29%</td>\n                        <td id=\"T_aa348746_1650_11ec_a903_1063c8539ca0row13_col2\" class=\"data row13 col2\" >6.06%</td>\n                        <td id=\"T_aa348746_1650_11ec_a903_1063c8539ca0row13_col3\" class=\"data row13 col3\" >0.00%</td>\n                        <td id=\"T_aa348746_1650_11ec_a903_1063c8539ca0row13_col4\" class=\"data row13 col4\" >0.00%</td>\n                        <td id=\"T_aa348746_1650_11ec_a903_1063c8539ca0row13_col5\" class=\"data row13 col5\" >0.00%</td>\n                        <td id=\"T_aa348746_1650_11ec_a903_1063c8539ca0row13_col6\" class=\"data row13 col6\" >12.50%</td>\n            </tr>\n            <tr>\n                                <th id=\"T_aa348746_1650_11ec_a903_1063c8539ca0level1_row14\" class=\"row_heading level1 row14\" >вдовец / вдова</th>\n                        <td id=\"T_aa348746_1650_11ec_a903_1063c8539ca0row14_col0\" class=\"data row14 col0\" >0.00%</td>\n                        <td id=\"T_aa348746_1650_11ec_a903_1063c8539ca0row14_col1\" class=\"data row14 col1\" >16.67%</td>\n                        <td id=\"T_aa348746_1650_11ec_a903_1063c8539ca0row14_col2\" class=\"data row14 col2\" >20.00%</td>\n                        <td id=\"T_aa348746_1650_11ec_a903_1063c8539ca0row14_col3\" class=\"data row14 col3\" >0.00%</td>\n                        <td id=\"T_aa348746_1650_11ec_a903_1063c8539ca0row14_col4\" class=\"data row14 col4\" >0.00%</td>\n                        <td id=\"T_aa348746_1650_11ec_a903_1063c8539ca0row14_col5\" class=\"data row14 col5\" >50.00%</td>\n                        <td id=\"T_aa348746_1650_11ec_a903_1063c8539ca0row14_col6\" class=\"data row14 col6\" >0.00%</td>\n            </tr>\n            <tr>\n                        <th id=\"T_aa348746_1650_11ec_a903_1063c8539ca0level0_row15\" class=\"row_heading level0 row15\" rowspan=5>многодетный</th>\n                        <th id=\"T_aa348746_1650_11ec_a903_1063c8539ca0level1_row15\" class=\"row_heading level1 row15\" >женат / замужем</th>\n                        <td id=\"T_aa348746_1650_11ec_a903_1063c8539ca0row15_col0\" class=\"data row15 col0\" >4.62%</td>\n                        <td id=\"T_aa348746_1650_11ec_a903_1063c8539ca0row15_col1\" class=\"data row15 col1\" >6.78%</td>\n                        <td id=\"T_aa348746_1650_11ec_a903_1063c8539ca0row15_col2\" class=\"data row15 col2\" >8.57%</td>\n                        <td id=\"T_aa348746_1650_11ec_a903_1063c8539ca0row15_col3\" class=\"data row15 col3\" >5.26%</td>\n                        <td id=\"T_aa348746_1650_11ec_a903_1063c8539ca0row15_col4\" class=\"data row15 col4\" >0.00%</td>\n                        <td id=\"T_aa348746_1650_11ec_a903_1063c8539ca0row15_col5\" class=\"data row15 col5\" >28.57%</td>\n                        <td id=\"T_aa348746_1650_11ec_a903_1063c8539ca0row15_col6\" class=\"data row15 col6\" >3.57%</td>\n            </tr>\n            <tr>\n                                <th id=\"T_aa348746_1650_11ec_a903_1063c8539ca0level1_row16\" class=\"row_heading level1 row16\" >гражданский брак</th>\n                        <td id=\"T_aa348746_1650_11ec_a903_1063c8539ca0row16_col0\" class=\"data row16 col0\" >16.67%</td>\n                        <td id=\"T_aa348746_1650_11ec_a903_1063c8539ca0row16_col1\" class=\"data row16 col1\" >28.57%</td>\n                        <td id=\"T_aa348746_1650_11ec_a903_1063c8539ca0row16_col2\" class=\"data row16 col2\" >0.00%</td>\n                        <td id=\"T_aa348746_1650_11ec_a903_1063c8539ca0row16_col3\" class=\"data row16 col3\" >0.00%</td>\n                        <td id=\"T_aa348746_1650_11ec_a903_1063c8539ca0row16_col4\" class=\"data row16 col4\" >13.89%</td>\n                        <td id=\"T_aa348746_1650_11ec_a903_1063c8539ca0row16_col5\" class=\"data row16 col5\" >0.00%</td>\n                        <td id=\"T_aa348746_1650_11ec_a903_1063c8539ca0row16_col6\" class=\"data row16 col6\" >0.00%</td>\n            </tr>\n            <tr>\n                                <th id=\"T_aa348746_1650_11ec_a903_1063c8539ca0level1_row17\" class=\"row_heading level1 row17\" >Не женат / не замужем</th>\n                        <td id=\"T_aa348746_1650_11ec_a903_1063c8539ca0row17_col0\" class=\"data row17 col0\" >0.00%</td>\n                        <td id=\"T_aa348746_1650_11ec_a903_1063c8539ca0row17_col1\" class=\"data row17 col1\" >0.00%</td>\n                        <td id=\"T_aa348746_1650_11ec_a903_1063c8539ca0row17_col2\" class=\"data row17 col2\" >66.67%</td>\n                        <td id=\"T_aa348746_1650_11ec_a903_1063c8539ca0row17_col3\" class=\"data row17 col3\" >0.00%</td>\n                        <td id=\"T_aa348746_1650_11ec_a903_1063c8539ca0row17_col4\" class=\"data row17 col4\" >0.00%</td>\n                        <td id=\"T_aa348746_1650_11ec_a903_1063c8539ca0row17_col5\" class=\"data row17 col5\" >0.00%</td>\n                        <td id=\"T_aa348746_1650_11ec_a903_1063c8539ca0row17_col6\" class=\"data row17 col6\" >0.00%</td>\n            </tr>\n            <tr>\n                                <th id=\"T_aa348746_1650_11ec_a903_1063c8539ca0level1_row18\" class=\"row_heading level1 row18\" >в разводе</th>\n                        <td id=\"T_aa348746_1650_11ec_a903_1063c8539ca0row18_col0\" class=\"data row18 col0\" >0.00%</td>\n                        <td id=\"T_aa348746_1650_11ec_a903_1063c8539ca0row18_col1\" class=\"data row18 col1\" >0.00%</td>\n                        <td id=\"T_aa348746_1650_11ec_a903_1063c8539ca0row18_col2\" class=\"data row18 col2\" >0.00%</td>\n                        <td id=\"T_aa348746_1650_11ec_a903_1063c8539ca0row18_col3\" class=\"data row18 col3\" >0.00%</td>\n                        <td id=\"T_aa348746_1650_11ec_a903_1063c8539ca0row18_col4\" class=\"data row18 col4\" >0.00%</td>\n                        <td id=\"T_aa348746_1650_11ec_a903_1063c8539ca0row18_col5\" class=\"data row18 col5\" >0.00%</td>\n                        <td id=\"T_aa348746_1650_11ec_a903_1063c8539ca0row18_col6\" class=\"data row18 col6\" >33.33%</td>\n            </tr>\n            <tr>\n                                <th id=\"T_aa348746_1650_11ec_a903_1063c8539ca0level1_row19\" class=\"row_heading level1 row19\" >вдовец / вдова</th>\n                        <td id=\"T_aa348746_1650_11ec_a903_1063c8539ca0row19_col0\" class=\"data row19 col0\" >0.00%</td>\n                        <td id=\"T_aa348746_1650_11ec_a903_1063c8539ca0row19_col1\" class=\"data row19 col1\" >0.00%</td>\n                        <td id=\"T_aa348746_1650_11ec_a903_1063c8539ca0row19_col2\" class=\"data row19 col2\" >0.00%</td>\n                        <td id=\"T_aa348746_1650_11ec_a903_1063c8539ca0row19_col3\" class=\"data row19 col3\" >0.00%</td>\n                        <td id=\"T_aa348746_1650_11ec_a903_1063c8539ca0row19_col4\" class=\"data row19 col4\" >0.00%</td>\n                        <td id=\"T_aa348746_1650_11ec_a903_1063c8539ca0row19_col5\" class=\"data row19 col5\" >0.00%</td>\n                        <td id=\"T_aa348746_1650_11ec_a903_1063c8539ca0row19_col6\" class=\"data row19 col6\" >0.00%</td>\n            </tr>\n    </tbody></table>"
     },
     "metadata": {},
     "execution_count": 38
    }
   ],
   "source": [
    "# \n",
    "data.pivot_table(index=['children_category','family_status'],\n",
    "                                    columns=['main_purpose'],\n",
    "                                    values='debt',\n",
    "                                    aggfunc='mean',\n",
    "                                    fill_value=0).style.format('{:.2%}')"
   ]
  },
  {
   "cell_type": "markdown",
   "metadata": {},
   "source": [
    "## Общий вывод"
   ]
  },
  {
   "cell_type": "markdown",
   "metadata": {},
   "source": [
    "В результате исследования выявлено, что относительно семейного положения наиболее часто просрочку возврата кредита допускают не семейные или находящиеся в гражданском браке клиенты. Наиболее надежны овдовевшие.\n",
    "\n",
    "Наличие двух детей или одного ребенка также отрицательно сказывается на своевременном возврате кредита. Бездетные и многодетные заемщики более надежны.\n"
   ]
  }
 ],
 "metadata": {
  "kernelspec": {
   "display_name": "Python 3",
   "language": "python",
   "name": "python3"
  },
  "language_info": {
   "codemirror_mode": {
    "name": "ipython",
    "version": 3
   },
   "file_extension": ".py",
   "mimetype": "text/x-python",
   "name": "python",
   "nbconvert_exporter": "python",
   "pygments_lexer": "ipython3",
   "version": "3.8.0-final"
  },
  "toc": {
   "base_numbering": 1,
   "nav_menu": {},
   "number_sections": true,
   "sideBar": true,
   "skip_h1_title": true,
   "title_cell": "Содержание",
   "title_sidebar": "Contents",
   "toc_cell": true,
   "toc_position": {
    "height": "calc(100% - 180px)",
    "left": "10px",
    "top": "150px",
    "width": "203px"
   },
   "toc_section_display": true,
   "toc_window_display": true
  }
 },
 "nbformat": 4,
 "nbformat_minor": 2
}